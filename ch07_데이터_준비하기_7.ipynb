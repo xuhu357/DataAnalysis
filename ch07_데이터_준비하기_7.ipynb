{
  "nbformat": 4,
  "nbformat_minor": 0,
  "metadata": {
    "colab": {
      "name": "ch07_데이터 준비하기_7.ipynb",
      "version": "0.3.2",
      "provenance": [],
      "include_colab_link": true
    },
    "kernelspec": {
      "name": "python3",
      "display_name": "Python 3"
    }
  },
  "cells": [
    {
      "cell_type": "markdown",
      "metadata": {
        "id": "view-in-github",
        "colab_type": "text"
      },
      "source": [
        "<a href=\"https://colab.research.google.com/github/xuhu357/DataAnalysis/blob/master/ch07_%EB%8D%B0%EC%9D%B4%ED%84%B0_%EC%A4%80%EB%B9%84%ED%95%98%EA%B8%B0_7.ipynb\" target=\"_parent\"><img src=\"https://colab.research.google.com/assets/colab-badge.svg\" alt=\"Open In Colab\"/></a>"
      ]
    },
    {
      "metadata": {
        "id": "XCMfWx_TDLpa",
        "colab_type": "code",
        "colab": {}
      },
      "cell_type": "code",
      "source": [
        "import pandas as pd\n",
        "import numpy as np"
      ],
      "execution_count": 0,
      "outputs": []
    },
    {
      "metadata": {
        "id": "uvny1ORnDX7b",
        "colab_type": "code",
        "colab": {}
      },
      "cell_type": "code",
      "source": [
        "data = {\n",
        "    'Dave': 'dave@google.com',\n",
        "    'Steve': 'steve@gmail.com',\n",
        "    'Rob': 'rob@gmail.com',\n",
        "    'Wes': np.nan\n",
        "}"
      ],
      "execution_count": 0,
      "outputs": []
    },
    {
      "metadata": {
        "id": "Y0VC0xonDq0u",
        "colab_type": "code",
        "colab": {}
      },
      "cell_type": "code",
      "source": [
        "data = pd.Series(data)"
      ],
      "execution_count": 0,
      "outputs": []
    },
    {
      "metadata": {
        "id": "tmwTXnxRDugD",
        "colab_type": "code",
        "colab": {
          "base_uri": "https://localhost:8080/",
          "height": 107
        },
        "outputId": "5f2623d8-8892-41fa-e479-d570acabfb08"
      },
      "cell_type": "code",
      "source": [
        "data"
      ],
      "execution_count": 5,
      "outputs": [
        {
          "output_type": "execute_result",
          "data": {
            "text/plain": [
              "Dave     dave@google.com\n",
              "Steve    steve@gmail.com\n",
              "Rob        rob@gmail.com\n",
              "Wes                  NaN\n",
              "dtype: object"
            ]
          },
          "metadata": {
            "tags": []
          },
          "execution_count": 5
        }
      ]
    },
    {
      "metadata": {
        "id": "grNkbIYxDvcK",
        "colab_type": "code",
        "colab": {
          "base_uri": "https://localhost:8080/",
          "height": 107
        },
        "outputId": "caee8051-77f6-43b1-b3fc-b92c32d7b29c"
      },
      "cell_type": "code",
      "source": [
        "data.isnull()"
      ],
      "execution_count": 6,
      "outputs": [
        {
          "output_type": "execute_result",
          "data": {
            "text/plain": [
              "Dave     False\n",
              "Steve    False\n",
              "Rob      False\n",
              "Wes       True\n",
              "dtype: bool"
            ]
          },
          "metadata": {
            "tags": []
          },
          "execution_count": 6
        }
      ]
    },
    {
      "metadata": {
        "id": "CBustudLD6AG",
        "colab_type": "text"
      },
      "cell_type": "markdown",
      "source": [
        "문자열과 정규표현식 메소드는 data.map()함수를 사용해서 각 값에 적용할 수 있지만, NA값을 만나면, 실패.\n",
        "\n",
        "이런 문제 해결하기 위해 Series에는 NA값을 건너뛰게 하는 간결한 문자열 처리 메소드 있다.\n",
        "Series의 str속성을 이용."
      ]
    },
    {
      "metadata": {
        "id": "Omk1b0qJDyJ8",
        "colab_type": "code",
        "colab": {
          "base_uri": "https://localhost:8080/",
          "height": 107
        },
        "outputId": "a032fd4b-e8db-4bc7-f8d9-2ab5d7b19c08"
      },
      "cell_type": "code",
      "source": [
        "# 'gmail' 이 포함되는지 여부 판단 \n",
        "\n",
        "data.str.contains('gmail')"
      ],
      "execution_count": 7,
      "outputs": [
        {
          "output_type": "execute_result",
          "data": {
            "text/plain": [
              "Dave     False\n",
              "Steve     True\n",
              "Rob       True\n",
              "Wes        NaN\n",
              "dtype: object"
            ]
          },
          "metadata": {
            "tags": []
          },
          "execution_count": 7
        }
      ]
    },
    {
      "metadata": {
        "id": "EZXuryYJEcFz",
        "colab_type": "text"
      },
      "cell_type": "markdown",
      "source": [
        "IGNORECASE와 같은 re 옵션과 함께 정규 표현식도 사용 가능"
      ]
    },
    {
      "metadata": {
        "id": "MkBCN_fwETSw",
        "colab_type": "code",
        "colab": {}
      },
      "cell_type": "code",
      "source": [
        "import re"
      ],
      "execution_count": 0,
      "outputs": []
    },
    {
      "metadata": {
        "id": "qIO9OA1SEhz5",
        "colab_type": "code",
        "colab": {}
      },
      "cell_type": "code",
      "source": [
        "pattern = r'([A-Z0-9._%+-]+)@([A-Z0-9.-]+)\\.([A-Z]{2,4})'"
      ],
      "execution_count": 0,
      "outputs": []
    },
    {
      "metadata": {
        "id": "rrlTvlIxE8a5",
        "colab_type": "code",
        "colab": {
          "base_uri": "https://localhost:8080/",
          "height": 107
        },
        "outputId": "0105dae5-1b8d-458c-ffa6-d919c200ac88"
      },
      "cell_type": "code",
      "source": [
        "# pattern에 일치하는 모든 문자열 찾기\n",
        "\n",
        "data.str.findall(pattern, flags=re.IGNORECASE)"
      ],
      "execution_count": 10,
      "outputs": [
        {
          "output_type": "execute_result",
          "data": {
            "text/plain": [
              "Dave     [(dave, google, com)]\n",
              "Steve    [(steve, gmail, com)]\n",
              "Rob        [(rob, gmail, com)]\n",
              "Wes                        NaN\n",
              "dtype: object"
            ]
          },
          "metadata": {
            "tags": []
          },
          "execution_count": 10
        }
      ]
    },
    {
      "metadata": {
        "id": "KhOp2lOYFRQr",
        "colab_type": "text"
      },
      "cell_type": "markdown",
      "source": [
        "벡터화된 요소를 꺼내오는 몇가지 방법이 있는데, str.get을 이용하거나, str 속성의 색인을 이용하는 방법"
      ]
    },
    {
      "metadata": {
        "id": "CrRBxO4KFHIi",
        "colab_type": "code",
        "colab": {
          "base_uri": "https://localhost:8080/",
          "height": 107
        },
        "outputId": "d368328e-7415-4c16-d4b8-95923392b726"
      },
      "cell_type": "code",
      "source": [
        "matches = data.str.match(pattern, flags=re.IGNORECASE)\n",
        "\n",
        "matches"
      ],
      "execution_count": 11,
      "outputs": [
        {
          "output_type": "execute_result",
          "data": {
            "text/plain": [
              "Dave     True\n",
              "Steve    True\n",
              "Rob      True\n",
              "Wes       NaN\n",
              "dtype: object"
            ]
          },
          "metadata": {
            "tags": []
          },
          "execution_count": 11
        }
      ]
    },
    {
      "metadata": {
        "id": "WZXgh1okGkFR",
        "colab_type": "code",
        "colab": {}
      },
      "cell_type": "code",
      "source": [
        "matches = data.str.extract(pat=pattern, flags=re.IGNORECASE)"
      ],
      "execution_count": 0,
      "outputs": []
    },
    {
      "metadata": {
        "id": "n0UXkPR3Hf6h",
        "colab_type": "code",
        "colab": {
          "base_uri": "https://localhost:8080/",
          "height": 173
        },
        "outputId": "9a2ab929-a02e-466e-8ae0-7d20ec27c807"
      },
      "cell_type": "code",
      "source": [
        "matches"
      ],
      "execution_count": 20,
      "outputs": [
        {
          "output_type": "execute_result",
          "data": {
            "text/html": [
              "<div>\n",
              "<style scoped>\n",
              "    .dataframe tbody tr th:only-of-type {\n",
              "        vertical-align: middle;\n",
              "    }\n",
              "\n",
              "    .dataframe tbody tr th {\n",
              "        vertical-align: top;\n",
              "    }\n",
              "\n",
              "    .dataframe thead th {\n",
              "        text-align: right;\n",
              "    }\n",
              "</style>\n",
              "<table border=\"1\" class=\"dataframe\">\n",
              "  <thead>\n",
              "    <tr style=\"text-align: right;\">\n",
              "      <th></th>\n",
              "      <th>0</th>\n",
              "      <th>1</th>\n",
              "      <th>2</th>\n",
              "    </tr>\n",
              "  </thead>\n",
              "  <tbody>\n",
              "    <tr>\n",
              "      <th>Dave</th>\n",
              "      <td>dave</td>\n",
              "      <td>google</td>\n",
              "      <td>com</td>\n",
              "    </tr>\n",
              "    <tr>\n",
              "      <th>Steve</th>\n",
              "      <td>steve</td>\n",
              "      <td>gmail</td>\n",
              "      <td>com</td>\n",
              "    </tr>\n",
              "    <tr>\n",
              "      <th>Rob</th>\n",
              "      <td>rob</td>\n",
              "      <td>gmail</td>\n",
              "      <td>com</td>\n",
              "    </tr>\n",
              "    <tr>\n",
              "      <th>Wes</th>\n",
              "      <td>NaN</td>\n",
              "      <td>NaN</td>\n",
              "      <td>NaN</td>\n",
              "    </tr>\n",
              "  </tbody>\n",
              "</table>\n",
              "</div>"
            ],
            "text/plain": [
              "           0       1    2\n",
              "Dave    dave  google  com\n",
              "Steve  steve   gmail  com\n",
              "Rob      rob   gmail  com\n",
              "Wes      NaN     NaN  NaN"
            ]
          },
          "metadata": {
            "tags": []
          },
          "execution_count": 20
        }
      ]
    },
    {
      "metadata": {
        "id": "lKjqjHMhHg4p",
        "colab_type": "code",
        "colab": {
          "base_uri": "https://localhost:8080/",
          "height": 107
        },
        "outputId": "d07b73b8-8e65-4ccf-ea9a-b07ac380df3b"
      },
      "cell_type": "code",
      "source": [
        "matches.get(1)"
      ],
      "execution_count": 22,
      "outputs": [
        {
          "output_type": "execute_result",
          "data": {
            "text/plain": [
              "Dave     google\n",
              "Steve     gmail\n",
              "Rob       gmail\n",
              "Wes         NaN\n",
              "Name: 1, dtype: object"
            ]
          },
          "metadata": {
            "tags": []
          },
          "execution_count": 22
        }
      ]
    },
    {
      "metadata": {
        "id": "tlDeDwvgHn-r",
        "colab_type": "code",
        "colab": {
          "base_uri": "https://localhost:8080/",
          "height": 107
        },
        "outputId": "49591fcc-3437-4995-bb61-35cf4ca8af4c"
      },
      "cell_type": "code",
      "source": [
        "matches[0]"
      ],
      "execution_count": 23,
      "outputs": [
        {
          "output_type": "execute_result",
          "data": {
            "text/plain": [
              "Dave      dave\n",
              "Steve    steve\n",
              "Rob        rob\n",
              "Wes        NaN\n",
              "Name: 0, dtype: object"
            ]
          },
          "metadata": {
            "tags": []
          },
          "execution_count": 23
        }
      ]
    },
    {
      "metadata": {
        "id": "YIkqzD3TIIgg",
        "colab_type": "text"
      },
      "cell_type": "markdown",
      "source": [
        "### 예제로 살펴보기\n",
        "\n",
        "미국 농무부 음식 데이터 베이스"
      ]
    },
    {
      "metadata": {
        "id": "S8NG6wTxH-fQ",
        "colab_type": "code",
        "colab": {}
      },
      "cell_type": "code",
      "source": [
        "import json"
      ],
      "execution_count": 0,
      "outputs": []
    },
    {
      "metadata": {
        "id": "6mXX5LOpIVez",
        "colab_type": "code",
        "colab": {
          "resources": {
            "http://localhost:8080/nbextensions/google.colab/files.js": {
              "data": "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",
              "ok": true,
              "headers": [
                [
                  "content-type",
                  "application/javascript"
                ]
              ],
              "status": 200,
              "status_text": ""
            }
          },
          "base_uri": "https://localhost:8080/",
          "height": 96
        },
        "outputId": "d426b822-6546-41fc-f061-b9cfb906a48a"
      },
      "cell_type": "code",
      "source": [
        "from google.colab import files\n",
        "\n",
        "uploaded = files.upload()\n",
        "\n",
        "for fn in uploaded.keys():\n",
        "  print('User uploaded file \"{name}\" with length {length} bytes'.format(\n",
        "      name=fn, length=len(uploaded[fn])))"
      ],
      "execution_count": 26,
      "outputs": [
        {
          "output_type": "display_data",
          "data": {
            "text/html": [
              "\n",
              "     <input type=\"file\" id=\"files-f6f27786-ad32-4b43-bbf7-3fb505b8c708\" name=\"files[]\" multiple disabled />\n",
              "     <output id=\"result-f6f27786-ad32-4b43-bbf7-3fb505b8c708\">\n",
              "      Upload widget is only available when the cell has been executed in the\n",
              "      current browser session. Please rerun this cell to enable.\n",
              "      </output>\n",
              "      <script src=\"/nbextensions/google.colab/files.js\"></script> "
            ],
            "text/plain": [
              "<IPython.core.display.HTML object>"
            ]
          },
          "metadata": {
            "tags": []
          }
        },
        {
          "output_type": "stream",
          "text": [
            "Saving foods-2011-10-03.json to foods-2011-10-03.json\n",
            "User uploaded file \"foods-2011-10-03.json\" with length 31814355 bytes\n"
          ],
          "name": "stdout"
        }
      ]
    },
    {
      "metadata": {
        "id": "UsMfiH7EIhqr",
        "colab_type": "code",
        "colab": {
          "base_uri": "https://localhost:8080/",
          "height": 35
        },
        "outputId": "34613131-393c-44da-d227-73bec12b3d43"
      },
      "cell_type": "code",
      "source": [
        "db = json.load(open('foods-2011-10-03.json'))\n",
        "\n",
        "len(db)"
      ],
      "execution_count": 27,
      "outputs": [
        {
          "output_type": "execute_result",
          "data": {
            "text/plain": [
              "6636"
            ]
          },
          "metadata": {
            "tags": []
          },
          "execution_count": 27
        }
      ]
    },
    {
      "metadata": {
        "id": "wNW-1vmHJBqp",
        "colab_type": "code",
        "colab": {
          "base_uri": "https://localhost:8080/",
          "height": 35
        },
        "outputId": "f211542c-9f7c-4e7d-c2b5-4cbedd3e170f"
      },
      "cell_type": "code",
      "source": [
        "# 각 데이터의 key를 살펴보기\n",
        "\n",
        "db[0].keys()"
      ],
      "execution_count": 28,
      "outputs": [
        {
          "output_type": "execute_result",
          "data": {
            "text/plain": [
              "dict_keys(['id', 'description', 'tags', 'manufacturer', 'group', 'portions', 'nutrients'])"
            ]
          },
          "metadata": {
            "tags": []
          },
          "execution_count": 28
        }
      ]
    },
    {
      "metadata": {
        "id": "FSHloUjbJP7O",
        "colab_type": "code",
        "colab": {
          "base_uri": "https://localhost:8080/",
          "height": 89
        },
        "outputId": "5097f57f-0533-42e8-8b74-ae14ca9f2ac6"
      },
      "cell_type": "code",
      "source": [
        "# nutrients의 값을 살펴보기\n",
        "\n",
        "db[0]['nutrients'][0]"
      ],
      "execution_count": 29,
      "outputs": [
        {
          "output_type": "execute_result",
          "data": {
            "text/plain": [
              "{'description': 'Protein',\n",
              " 'group': 'Composition',\n",
              " 'units': 'g',\n",
              " 'value': 25.18}"
            ]
          },
          "metadata": {
            "tags": []
          },
          "execution_count": 29
        }
      ]
    },
    {
      "metadata": {
        "id": "jaZtPJrPJlcV",
        "colab_type": "code",
        "colab": {
          "base_uri": "https://localhost:8080/",
          "height": 266
        },
        "outputId": "184ba073-c2c6-44cc-83d0-e1bb7f2a5478"
      },
      "cell_type": "code",
      "source": [
        "nutrients = pd.DataFrame(db[0]['nutrients'])\n",
        "\n",
        "nutrients[:7]"
      ],
      "execution_count": 30,
      "outputs": [
        {
          "output_type": "execute_result",
          "data": {
            "text/html": [
              "<div>\n",
              "<style scoped>\n",
              "    .dataframe tbody tr th:only-of-type {\n",
              "        vertical-align: middle;\n",
              "    }\n",
              "\n",
              "    .dataframe tbody tr th {\n",
              "        vertical-align: top;\n",
              "    }\n",
              "\n",
              "    .dataframe thead th {\n",
              "        text-align: right;\n",
              "    }\n",
              "</style>\n",
              "<table border=\"1\" class=\"dataframe\">\n",
              "  <thead>\n",
              "    <tr style=\"text-align: right;\">\n",
              "      <th></th>\n",
              "      <th>description</th>\n",
              "      <th>group</th>\n",
              "      <th>units</th>\n",
              "      <th>value</th>\n",
              "    </tr>\n",
              "  </thead>\n",
              "  <tbody>\n",
              "    <tr>\n",
              "      <th>0</th>\n",
              "      <td>Protein</td>\n",
              "      <td>Composition</td>\n",
              "      <td>g</td>\n",
              "      <td>25.18</td>\n",
              "    </tr>\n",
              "    <tr>\n",
              "      <th>1</th>\n",
              "      <td>Total lipid (fat)</td>\n",
              "      <td>Composition</td>\n",
              "      <td>g</td>\n",
              "      <td>29.20</td>\n",
              "    </tr>\n",
              "    <tr>\n",
              "      <th>2</th>\n",
              "      <td>Carbohydrate, by difference</td>\n",
              "      <td>Composition</td>\n",
              "      <td>g</td>\n",
              "      <td>3.06</td>\n",
              "    </tr>\n",
              "    <tr>\n",
              "      <th>3</th>\n",
              "      <td>Ash</td>\n",
              "      <td>Other</td>\n",
              "      <td>g</td>\n",
              "      <td>3.28</td>\n",
              "    </tr>\n",
              "    <tr>\n",
              "      <th>4</th>\n",
              "      <td>Energy</td>\n",
              "      <td>Energy</td>\n",
              "      <td>kcal</td>\n",
              "      <td>376.00</td>\n",
              "    </tr>\n",
              "    <tr>\n",
              "      <th>5</th>\n",
              "      <td>Water</td>\n",
              "      <td>Composition</td>\n",
              "      <td>g</td>\n",
              "      <td>39.28</td>\n",
              "    </tr>\n",
              "    <tr>\n",
              "      <th>6</th>\n",
              "      <td>Energy</td>\n",
              "      <td>Energy</td>\n",
              "      <td>kJ</td>\n",
              "      <td>1573.00</td>\n",
              "    </tr>\n",
              "  </tbody>\n",
              "</table>\n",
              "</div>"
            ],
            "text/plain": [
              "                   description        group units    value\n",
              "0                      Protein  Composition     g    25.18\n",
              "1            Total lipid (fat)  Composition     g    29.20\n",
              "2  Carbohydrate, by difference  Composition     g     3.06\n",
              "3                          Ash        Other     g     3.28\n",
              "4                       Energy       Energy  kcal   376.00\n",
              "5                        Water  Composition     g    39.28\n",
              "6                       Energy       Energy    kJ  1573.00"
            ]
          },
          "metadata": {
            "tags": []
          },
          "execution_count": 30
        }
      ]
    },
    {
      "metadata": {
        "id": "T1rtw2CgKBwp",
        "colab_type": "code",
        "colab": {
          "base_uri": "https://localhost:8080/",
          "height": 107
        },
        "outputId": "10479368-4312-4b88-eea4-0e040e8353ad"
      },
      "cell_type": "code",
      "source": [
        "nutrients.count()"
      ],
      "execution_count": 31,
      "outputs": [
        {
          "output_type": "execute_result",
          "data": {
            "text/plain": [
              "description    162\n",
              "group          162\n",
              "units          162\n",
              "value          162\n",
              "dtype: int64"
            ]
          },
          "metadata": {
            "tags": []
          },
          "execution_count": 31
        }
      ]
    },
    {
      "metadata": {
        "id": "1KoyTP8xKRJM",
        "colab_type": "text"
      },
      "cell_type": "markdown",
      "source": [
        "Dictionary List를 DataFrame으로 바꿀때 추출할 field 목록을 지정할 수 있다. \n",
        "\n",
        "음식 이름, 그룹, id 그리고 제조사만을 추출하자."
      ]
    },
    {
      "metadata": {
        "id": "bZK5TYCTKGUb",
        "colab_type": "code",
        "colab": {}
      },
      "cell_type": "code",
      "source": [
        "info_keys =['description', 'group', 'id', 'manufacturer']\n",
        "\n",
        "info = pd.DataFrame(db, columns=info_keys)"
      ],
      "execution_count": 0,
      "outputs": []
    },
    {
      "metadata": {
        "id": "-iqy7_t1KzYE",
        "colab_type": "code",
        "colab": {
          "base_uri": "https://localhost:8080/",
          "height": 204
        },
        "outputId": "c1b62830-a72d-4333-cbbd-0fea7f3d35f6"
      },
      "cell_type": "code",
      "source": [
        "info.head()"
      ],
      "execution_count": 48,
      "outputs": [
        {
          "output_type": "execute_result",
          "data": {
            "text/html": [
              "<div>\n",
              "<style scoped>\n",
              "    .dataframe tbody tr th:only-of-type {\n",
              "        vertical-align: middle;\n",
              "    }\n",
              "\n",
              "    .dataframe tbody tr th {\n",
              "        vertical-align: top;\n",
              "    }\n",
              "\n",
              "    .dataframe thead th {\n",
              "        text-align: right;\n",
              "    }\n",
              "</style>\n",
              "<table border=\"1\" class=\"dataframe\">\n",
              "  <thead>\n",
              "    <tr style=\"text-align: right;\">\n",
              "      <th></th>\n",
              "      <th>description</th>\n",
              "      <th>group</th>\n",
              "      <th>id</th>\n",
              "      <th>manufacturer</th>\n",
              "    </tr>\n",
              "  </thead>\n",
              "  <tbody>\n",
              "    <tr>\n",
              "      <th>0</th>\n",
              "      <td>Cheese, caraway</td>\n",
              "      <td>Dairy and Egg Products</td>\n",
              "      <td>1008</td>\n",
              "      <td></td>\n",
              "    </tr>\n",
              "    <tr>\n",
              "      <th>1</th>\n",
              "      <td>Cheese, cheddar</td>\n",
              "      <td>Dairy and Egg Products</td>\n",
              "      <td>1009</td>\n",
              "      <td></td>\n",
              "    </tr>\n",
              "    <tr>\n",
              "      <th>2</th>\n",
              "      <td>Cheese, edam</td>\n",
              "      <td>Dairy and Egg Products</td>\n",
              "      <td>1018</td>\n",
              "      <td></td>\n",
              "    </tr>\n",
              "    <tr>\n",
              "      <th>3</th>\n",
              "      <td>Cheese, feta</td>\n",
              "      <td>Dairy and Egg Products</td>\n",
              "      <td>1019</td>\n",
              "      <td></td>\n",
              "    </tr>\n",
              "    <tr>\n",
              "      <th>4</th>\n",
              "      <td>Cheese, mozzarella, part skim milk</td>\n",
              "      <td>Dairy and Egg Products</td>\n",
              "      <td>1028</td>\n",
              "      <td></td>\n",
              "    </tr>\n",
              "  </tbody>\n",
              "</table>\n",
              "</div>"
            ],
            "text/plain": [
              "                          description                   group    id  \\\n",
              "0                     Cheese, caraway  Dairy and Egg Products  1008   \n",
              "1                     Cheese, cheddar  Dairy and Egg Products  1009   \n",
              "2                        Cheese, edam  Dairy and Egg Products  1018   \n",
              "3                        Cheese, feta  Dairy and Egg Products  1019   \n",
              "4  Cheese, mozzarella, part skim milk  Dairy and Egg Products  1028   \n",
              "\n",
              "  manufacturer  \n",
              "0               \n",
              "1               \n",
              "2               \n",
              "3               \n",
              "4               "
            ]
          },
          "metadata": {
            "tags": []
          },
          "execution_count": 48
        }
      ]
    },
    {
      "metadata": {
        "id": "gAvmBoWtK1aT",
        "colab_type": "code",
        "colab": {
          "base_uri": "https://localhost:8080/",
          "height": 179
        },
        "outputId": "2ee492a6-81a2-40df-d19f-9fbb0537ae55"
      },
      "cell_type": "code",
      "source": [
        "info.info()"
      ],
      "execution_count": 34,
      "outputs": [
        {
          "output_type": "stream",
          "text": [
            "<class 'pandas.core.frame.DataFrame'>\n",
            "RangeIndex: 6636 entries, 0 to 6635\n",
            "Data columns (total 4 columns):\n",
            "description     6636 non-null object\n",
            "group           6636 non-null object\n",
            "id              6636 non-null int64\n",
            "manufacturer    5195 non-null object\n",
            "dtypes: int64(1), object(3)\n",
            "memory usage: 207.5+ KB\n"
          ],
          "name": "stdout"
        }
      ]
    },
    {
      "metadata": {
        "id": "w5DxlWkTLINT",
        "colab_type": "text"
      },
      "cell_type": "markdown",
      "source": [
        "value_counts()를 사용해서 음식 그룹의 분포를 확인해보자."
      ]
    },
    {
      "metadata": {
        "id": "5cdNlX-UK_KU",
        "colab_type": "code",
        "colab": {
          "base_uri": "https://localhost:8080/",
          "height": 215
        },
        "outputId": "7f75b63b-36c0-4f27-826d-d3f16a51554b"
      },
      "cell_type": "code",
      "source": [
        "pd.value_counts(info.group)[:10]"
      ],
      "execution_count": 35,
      "outputs": [
        {
          "output_type": "execute_result",
          "data": {
            "text/plain": [
              "Vegetables and Vegetable Products    812\n",
              "Beef Products                        618\n",
              "Baked Products                       496\n",
              "Breakfast Cereals                    403\n",
              "Fast Foods                           365\n",
              "Legumes and Legume Products          365\n",
              "Lamb, Veal, and Game Products        345\n",
              "Sweets                               341\n",
              "Fruits and Fruit Juices              328\n",
              "Pork Products                        328\n",
              "Name: group, dtype: int64"
            ]
          },
          "metadata": {
            "tags": []
          },
          "execution_count": 35
        }
      ]
    },
    {
      "metadata": {
        "id": "yDYM63O1LjST",
        "colab_type": "text"
      },
      "cell_type": "markdown",
      "source": [
        "분석 해볼것:\n",
        "1.  각 음식의 영양소 정보를 거대한 테이블에 담기\n",
        "\n",
        "\n",
        "> 음식영양소 리스트를 하나의 DataFrame으로 변환, 음식의 id를 위한 칼럼을 추가.\n",
        "\n",
        "> DataFrame을 리스트에 추가\n",
        "\n",
        "> 이 리스트를 concat을 사용해서 하나로 합친다.\n",
        "\n"
      ]
    },
    {
      "metadata": {
        "id": "NvUcoxDULQlk",
        "colab_type": "code",
        "colab": {}
      },
      "cell_type": "code",
      "source": [
        "nutrients =[]\n",
        "\n",
        "for rec in db:\n",
        "  fnuts = pd.DataFrame(rec['nutrients'])\n",
        "  fnuts['id'] = rec['id']\n",
        "  nutrients.append(fnuts)\n",
        "  \n",
        "nutrients = pd.concat(nutrients, ignore_index=True)"
      ],
      "execution_count": 0,
      "outputs": []
    },
    {
      "metadata": {
        "id": "a1LzGfSoMjoh",
        "colab_type": "code",
        "colab": {
          "base_uri": "https://localhost:8080/",
          "height": 297
        },
        "outputId": "a40151ec-6efa-4613-dfcb-aea99303fa4d"
      },
      "cell_type": "code",
      "source": [
        "nutrients.describe()"
      ],
      "execution_count": 37,
      "outputs": [
        {
          "output_type": "execute_result",
          "data": {
            "text/html": [
              "<div>\n",
              "<style scoped>\n",
              "    .dataframe tbody tr th:only-of-type {\n",
              "        vertical-align: middle;\n",
              "    }\n",
              "\n",
              "    .dataframe tbody tr th {\n",
              "        vertical-align: top;\n",
              "    }\n",
              "\n",
              "    .dataframe thead th {\n",
              "        text-align: right;\n",
              "    }\n",
              "</style>\n",
              "<table border=\"1\" class=\"dataframe\">\n",
              "  <thead>\n",
              "    <tr style=\"text-align: right;\">\n",
              "      <th></th>\n",
              "      <th>value</th>\n",
              "      <th>id</th>\n",
              "    </tr>\n",
              "  </thead>\n",
              "  <tbody>\n",
              "    <tr>\n",
              "      <th>count</th>\n",
              "      <td>389355.000000</td>\n",
              "      <td>389355.000000</td>\n",
              "    </tr>\n",
              "    <tr>\n",
              "      <th>mean</th>\n",
              "      <td>66.074429</td>\n",
              "      <td>14951.226806</td>\n",
              "    </tr>\n",
              "    <tr>\n",
              "      <th>std</th>\n",
              "      <td>644.176571</td>\n",
              "      <td>8664.025821</td>\n",
              "    </tr>\n",
              "    <tr>\n",
              "      <th>min</th>\n",
              "      <td>0.000000</td>\n",
              "      <td>1008.000000</td>\n",
              "    </tr>\n",
              "    <tr>\n",
              "      <th>25%</th>\n",
              "      <td>0.040000</td>\n",
              "      <td>10047.000000</td>\n",
              "    </tr>\n",
              "    <tr>\n",
              "      <th>50%</th>\n",
              "      <td>0.784000</td>\n",
              "      <td>13898.000000</td>\n",
              "    </tr>\n",
              "    <tr>\n",
              "      <th>75%</th>\n",
              "      <td>9.000000</td>\n",
              "      <td>19019.000000</td>\n",
              "    </tr>\n",
              "    <tr>\n",
              "      <th>max</th>\n",
              "      <td>100000.000000</td>\n",
              "      <td>93600.000000</td>\n",
              "    </tr>\n",
              "  </tbody>\n",
              "</table>\n",
              "</div>"
            ],
            "text/plain": [
              "               value             id\n",
              "count  389355.000000  389355.000000\n",
              "mean       66.074429   14951.226806\n",
              "std       644.176571    8664.025821\n",
              "min         0.000000    1008.000000\n",
              "25%         0.040000   10047.000000\n",
              "50%         0.784000   13898.000000\n",
              "75%         9.000000   19019.000000\n",
              "max    100000.000000   93600.000000"
            ]
          },
          "metadata": {
            "tags": []
          },
          "execution_count": 37
        }
      ]
    },
    {
      "metadata": {
        "id": "NYGgyJ5qMquL",
        "colab_type": "code",
        "colab": {
          "base_uri": "https://localhost:8080/",
          "height": 204
        },
        "outputId": "4eef6beb-12e5-427d-f32e-64153b095bfa"
      },
      "cell_type": "code",
      "source": [
        "nutrients.head()"
      ],
      "execution_count": 38,
      "outputs": [
        {
          "output_type": "execute_result",
          "data": {
            "text/html": [
              "<div>\n",
              "<style scoped>\n",
              "    .dataframe tbody tr th:only-of-type {\n",
              "        vertical-align: middle;\n",
              "    }\n",
              "\n",
              "    .dataframe tbody tr th {\n",
              "        vertical-align: top;\n",
              "    }\n",
              "\n",
              "    .dataframe thead th {\n",
              "        text-align: right;\n",
              "    }\n",
              "</style>\n",
              "<table border=\"1\" class=\"dataframe\">\n",
              "  <thead>\n",
              "    <tr style=\"text-align: right;\">\n",
              "      <th></th>\n",
              "      <th>description</th>\n",
              "      <th>group</th>\n",
              "      <th>units</th>\n",
              "      <th>value</th>\n",
              "      <th>id</th>\n",
              "    </tr>\n",
              "  </thead>\n",
              "  <tbody>\n",
              "    <tr>\n",
              "      <th>0</th>\n",
              "      <td>Protein</td>\n",
              "      <td>Composition</td>\n",
              "      <td>g</td>\n",
              "      <td>25.18</td>\n",
              "      <td>1008</td>\n",
              "    </tr>\n",
              "    <tr>\n",
              "      <th>1</th>\n",
              "      <td>Total lipid (fat)</td>\n",
              "      <td>Composition</td>\n",
              "      <td>g</td>\n",
              "      <td>29.20</td>\n",
              "      <td>1008</td>\n",
              "    </tr>\n",
              "    <tr>\n",
              "      <th>2</th>\n",
              "      <td>Carbohydrate, by difference</td>\n",
              "      <td>Composition</td>\n",
              "      <td>g</td>\n",
              "      <td>3.06</td>\n",
              "      <td>1008</td>\n",
              "    </tr>\n",
              "    <tr>\n",
              "      <th>3</th>\n",
              "      <td>Ash</td>\n",
              "      <td>Other</td>\n",
              "      <td>g</td>\n",
              "      <td>3.28</td>\n",
              "      <td>1008</td>\n",
              "    </tr>\n",
              "    <tr>\n",
              "      <th>4</th>\n",
              "      <td>Energy</td>\n",
              "      <td>Energy</td>\n",
              "      <td>kcal</td>\n",
              "      <td>376.00</td>\n",
              "      <td>1008</td>\n",
              "    </tr>\n",
              "  </tbody>\n",
              "</table>\n",
              "</div>"
            ],
            "text/plain": [
              "                   description        group units   value    id\n",
              "0                      Protein  Composition     g   25.18  1008\n",
              "1            Total lipid (fat)  Composition     g   29.20  1008\n",
              "2  Carbohydrate, by difference  Composition     g    3.06  1008\n",
              "3                          Ash        Other     g    3.28  1008\n",
              "4                       Energy       Energy  kcal  376.00  1008"
            ]
          },
          "metadata": {
            "tags": []
          },
          "execution_count": 38
        }
      ]
    },
    {
      "metadata": {
        "id": "qG4bLgiAMwww",
        "colab_type": "text"
      },
      "cell_type": "markdown",
      "source": [
        "중복된 데이터를 제거해보자."
      ]
    },
    {
      "metadata": {
        "id": "kgWBYw3lMuTC",
        "colab_type": "code",
        "colab": {
          "base_uri": "https://localhost:8080/",
          "height": 35
        },
        "outputId": "3e09c583-6bac-40f7-90f9-d09dc3554e3a"
      },
      "cell_type": "code",
      "source": [
        "nutrients.duplicated().sum()"
      ],
      "execution_count": 39,
      "outputs": [
        {
          "output_type": "execute_result",
          "data": {
            "text/plain": [
              "14179"
            ]
          },
          "metadata": {
            "tags": []
          },
          "execution_count": 39
        }
      ]
    },
    {
      "metadata": {
        "id": "wjIcufIMM2ME",
        "colab_type": "code",
        "colab": {}
      },
      "cell_type": "code",
      "source": [
        "nutrients = nutrients.drop_duplicates()"
      ],
      "execution_count": 0,
      "outputs": []
    },
    {
      "metadata": {
        "id": "eoV3Ou3dM5uu",
        "colab_type": "code",
        "colab": {
          "base_uri": "https://localhost:8080/",
          "height": 204
        },
        "outputId": "867803d2-3c7b-4ebf-84b0-ca12eb68ed03"
      },
      "cell_type": "code",
      "source": [
        "nutrients.head()"
      ],
      "execution_count": 42,
      "outputs": [
        {
          "output_type": "execute_result",
          "data": {
            "text/html": [
              "<div>\n",
              "<style scoped>\n",
              "    .dataframe tbody tr th:only-of-type {\n",
              "        vertical-align: middle;\n",
              "    }\n",
              "\n",
              "    .dataframe tbody tr th {\n",
              "        vertical-align: top;\n",
              "    }\n",
              "\n",
              "    .dataframe thead th {\n",
              "        text-align: right;\n",
              "    }\n",
              "</style>\n",
              "<table border=\"1\" class=\"dataframe\">\n",
              "  <thead>\n",
              "    <tr style=\"text-align: right;\">\n",
              "      <th></th>\n",
              "      <th>description</th>\n",
              "      <th>group</th>\n",
              "      <th>units</th>\n",
              "      <th>value</th>\n",
              "      <th>id</th>\n",
              "    </tr>\n",
              "  </thead>\n",
              "  <tbody>\n",
              "    <tr>\n",
              "      <th>0</th>\n",
              "      <td>Protein</td>\n",
              "      <td>Composition</td>\n",
              "      <td>g</td>\n",
              "      <td>25.18</td>\n",
              "      <td>1008</td>\n",
              "    </tr>\n",
              "    <tr>\n",
              "      <th>1</th>\n",
              "      <td>Total lipid (fat)</td>\n",
              "      <td>Composition</td>\n",
              "      <td>g</td>\n",
              "      <td>29.20</td>\n",
              "      <td>1008</td>\n",
              "    </tr>\n",
              "    <tr>\n",
              "      <th>2</th>\n",
              "      <td>Carbohydrate, by difference</td>\n",
              "      <td>Composition</td>\n",
              "      <td>g</td>\n",
              "      <td>3.06</td>\n",
              "      <td>1008</td>\n",
              "    </tr>\n",
              "    <tr>\n",
              "      <th>3</th>\n",
              "      <td>Ash</td>\n",
              "      <td>Other</td>\n",
              "      <td>g</td>\n",
              "      <td>3.28</td>\n",
              "      <td>1008</td>\n",
              "    </tr>\n",
              "    <tr>\n",
              "      <th>4</th>\n",
              "      <td>Energy</td>\n",
              "      <td>Energy</td>\n",
              "      <td>kcal</td>\n",
              "      <td>376.00</td>\n",
              "      <td>1008</td>\n",
              "    </tr>\n",
              "  </tbody>\n",
              "</table>\n",
              "</div>"
            ],
            "text/plain": [
              "                   description        group units   value    id\n",
              "0                      Protein  Composition     g   25.18  1008\n",
              "1            Total lipid (fat)  Composition     g   29.20  1008\n",
              "2  Carbohydrate, by difference  Composition     g    3.06  1008\n",
              "3                          Ash        Other     g    3.28  1008\n",
              "4                       Energy       Energy  kcal  376.00  1008"
            ]
          },
          "metadata": {
            "tags": []
          },
          "execution_count": 42
        }
      ]
    },
    {
      "metadata": {
        "id": "YBm7JybBM--C",
        "colab_type": "code",
        "colab": {}
      },
      "cell_type": "code",
      "source": [
        "# 'group'과 'description'은 모두 dataframe 객체이므로 이름을 바꾸어서 알아보기 쉽도록 하자.\n",
        "\n",
        "col_mapping = {\n",
        "    'description':'food',\n",
        "    'group': 'fgroup'\n",
        "}\n",
        "\n",
        "info = info.rename(columns=col_mapping, copy=False)"
      ],
      "execution_count": 0,
      "outputs": []
    },
    {
      "metadata": {
        "id": "72OsaZS0NfoV",
        "colab_type": "code",
        "colab": {
          "base_uri": "https://localhost:8080/",
          "height": 204
        },
        "outputId": "15da865c-0fd2-442a-caca-811d0e63fdf5"
      },
      "cell_type": "code",
      "source": [
        "info.head()"
      ],
      "execution_count": 50,
      "outputs": [
        {
          "output_type": "execute_result",
          "data": {
            "text/html": [
              "<div>\n",
              "<style scoped>\n",
              "    .dataframe tbody tr th:only-of-type {\n",
              "        vertical-align: middle;\n",
              "    }\n",
              "\n",
              "    .dataframe tbody tr th {\n",
              "        vertical-align: top;\n",
              "    }\n",
              "\n",
              "    .dataframe thead th {\n",
              "        text-align: right;\n",
              "    }\n",
              "</style>\n",
              "<table border=\"1\" class=\"dataframe\">\n",
              "  <thead>\n",
              "    <tr style=\"text-align: right;\">\n",
              "      <th></th>\n",
              "      <th>food</th>\n",
              "      <th>fgroup</th>\n",
              "      <th>id</th>\n",
              "      <th>manufacturer</th>\n",
              "    </tr>\n",
              "  </thead>\n",
              "  <tbody>\n",
              "    <tr>\n",
              "      <th>0</th>\n",
              "      <td>Cheese, caraway</td>\n",
              "      <td>Dairy and Egg Products</td>\n",
              "      <td>1008</td>\n",
              "      <td></td>\n",
              "    </tr>\n",
              "    <tr>\n",
              "      <th>1</th>\n",
              "      <td>Cheese, cheddar</td>\n",
              "      <td>Dairy and Egg Products</td>\n",
              "      <td>1009</td>\n",
              "      <td></td>\n",
              "    </tr>\n",
              "    <tr>\n",
              "      <th>2</th>\n",
              "      <td>Cheese, edam</td>\n",
              "      <td>Dairy and Egg Products</td>\n",
              "      <td>1018</td>\n",
              "      <td></td>\n",
              "    </tr>\n",
              "    <tr>\n",
              "      <th>3</th>\n",
              "      <td>Cheese, feta</td>\n",
              "      <td>Dairy and Egg Products</td>\n",
              "      <td>1019</td>\n",
              "      <td></td>\n",
              "    </tr>\n",
              "    <tr>\n",
              "      <th>4</th>\n",
              "      <td>Cheese, mozzarella, part skim milk</td>\n",
              "      <td>Dairy and Egg Products</td>\n",
              "      <td>1028</td>\n",
              "      <td></td>\n",
              "    </tr>\n",
              "  </tbody>\n",
              "</table>\n",
              "</div>"
            ],
            "text/plain": [
              "                                 food                  fgroup    id  \\\n",
              "0                     Cheese, caraway  Dairy and Egg Products  1008   \n",
              "1                     Cheese, cheddar  Dairy and Egg Products  1009   \n",
              "2                        Cheese, edam  Dairy and Egg Products  1018   \n",
              "3                        Cheese, feta  Dairy and Egg Products  1019   \n",
              "4  Cheese, mozzarella, part skim milk  Dairy and Egg Products  1028   \n",
              "\n",
              "  manufacturer  \n",
              "0               \n",
              "1               \n",
              "2               \n",
              "3               \n",
              "4               "
            ]
          },
          "metadata": {
            "tags": []
          },
          "execution_count": 50
        }
      ]
    },
    {
      "metadata": {
        "id": "wMq7VDSVNhRd",
        "colab_type": "code",
        "colab": {
          "base_uri": "https://localhost:8080/",
          "height": 204
        },
        "outputId": "4dd8b385-6dea-4b94-b930-746f374c837b"
      },
      "cell_type": "code",
      "source": [
        "# For nutrients\n",
        "\n",
        "col_mapping = {\n",
        "    'description': 'nutrient',\n",
        "    'group': 'nutgroup'\n",
        "}\n",
        "\n",
        "nutrients = nutrients.rename(columns=col_mapping, copy=False)\n",
        "nutrients.head()"
      ],
      "execution_count": 51,
      "outputs": [
        {
          "output_type": "execute_result",
          "data": {
            "text/html": [
              "<div>\n",
              "<style scoped>\n",
              "    .dataframe tbody tr th:only-of-type {\n",
              "        vertical-align: middle;\n",
              "    }\n",
              "\n",
              "    .dataframe tbody tr th {\n",
              "        vertical-align: top;\n",
              "    }\n",
              "\n",
              "    .dataframe thead th {\n",
              "        text-align: right;\n",
              "    }\n",
              "</style>\n",
              "<table border=\"1\" class=\"dataframe\">\n",
              "  <thead>\n",
              "    <tr style=\"text-align: right;\">\n",
              "      <th></th>\n",
              "      <th>nutrient</th>\n",
              "      <th>nutgroup</th>\n",
              "      <th>units</th>\n",
              "      <th>value</th>\n",
              "      <th>id</th>\n",
              "    </tr>\n",
              "  </thead>\n",
              "  <tbody>\n",
              "    <tr>\n",
              "      <th>0</th>\n",
              "      <td>Protein</td>\n",
              "      <td>Composition</td>\n",
              "      <td>g</td>\n",
              "      <td>25.18</td>\n",
              "      <td>1008</td>\n",
              "    </tr>\n",
              "    <tr>\n",
              "      <th>1</th>\n",
              "      <td>Total lipid (fat)</td>\n",
              "      <td>Composition</td>\n",
              "      <td>g</td>\n",
              "      <td>29.20</td>\n",
              "      <td>1008</td>\n",
              "    </tr>\n",
              "    <tr>\n",
              "      <th>2</th>\n",
              "      <td>Carbohydrate, by difference</td>\n",
              "      <td>Composition</td>\n",
              "      <td>g</td>\n",
              "      <td>3.06</td>\n",
              "      <td>1008</td>\n",
              "    </tr>\n",
              "    <tr>\n",
              "      <th>3</th>\n",
              "      <td>Ash</td>\n",
              "      <td>Other</td>\n",
              "      <td>g</td>\n",
              "      <td>3.28</td>\n",
              "      <td>1008</td>\n",
              "    </tr>\n",
              "    <tr>\n",
              "      <th>4</th>\n",
              "      <td>Energy</td>\n",
              "      <td>Energy</td>\n",
              "      <td>kcal</td>\n",
              "      <td>376.00</td>\n",
              "      <td>1008</td>\n",
              "    </tr>\n",
              "  </tbody>\n",
              "</table>\n",
              "</div>"
            ],
            "text/plain": [
              "                      nutrient     nutgroup units   value    id\n",
              "0                      Protein  Composition     g   25.18  1008\n",
              "1            Total lipid (fat)  Composition     g   29.20  1008\n",
              "2  Carbohydrate, by difference  Composition     g    3.06  1008\n",
              "3                          Ash        Other     g    3.28  1008\n",
              "4                       Energy       Energy  kcal  376.00  1008"
            ]
          },
          "metadata": {
            "tags": []
          },
          "execution_count": 51
        }
      ]
    },
    {
      "metadata": {
        "id": "UebW8aXHOoJZ",
        "colab_type": "text"
      },
      "cell_type": "markdown",
      "source": [
        "여기서 잠깐 정리하고 가자면, \n",
        "\n",
        "info에는 db에서의 'id', 'description', 'group', 'manufacturer' 등 네개 정보 포함, (nutrients는 X)\n",
        "nutrients는 위에서 불포함된 nutrients 속성에 해당되는 데이터만 포함. \n",
        "\n",
        "그래서 두개를 합쳐서 살펴보기로 하는 거임."
      ]
    },
    {
      "metadata": {
        "id": "sJCaGDIDOFQL",
        "colab_type": "code",
        "colab": {
          "base_uri": "https://localhost:8080/",
          "height": 35
        },
        "outputId": "fdb0ffe0-f77e-46b9-b319-43459fe4fdb4"
      },
      "cell_type": "code",
      "source": [
        "db[0].keys()"
      ],
      "execution_count": 52,
      "outputs": [
        {
          "output_type": "execute_result",
          "data": {
            "text/plain": [
              "dict_keys(['id', 'description', 'tags', 'manufacturer', 'group', 'portions', 'nutrients'])"
            ]
          },
          "metadata": {
            "tags": []
          },
          "execution_count": 52
        }
      ]
    },
    {
      "metadata": {
        "id": "QgfLlU4tPLuj",
        "colab_type": "code",
        "colab": {
          "base_uri": "https://localhost:8080/",
          "height": 35
        },
        "outputId": "3c3b2369-38ca-44dd-8710-7637dad45594"
      },
      "cell_type": "code",
      "source": [
        "# info 칼럼은 위의 keys에서 description, group, id, manufacturer에 해당.\n",
        "info.columns"
      ],
      "execution_count": 53,
      "outputs": [
        {
          "output_type": "execute_result",
          "data": {
            "text/plain": [
              "Index(['food', 'fgroup', 'id', 'manufacturer'], dtype='object')"
            ]
          },
          "metadata": {
            "tags": []
          },
          "execution_count": 53
        }
      ]
    },
    {
      "metadata": {
        "id": "GFiz8ZQEPPAq",
        "colab_type": "code",
        "colab": {
          "base_uri": "https://localhost:8080/",
          "height": 35
        },
        "outputId": "2e6db58c-81dc-4f77-853a-dafc21d26eb9"
      },
      "cell_type": "code",
      "source": [
        "# nutrients는 db keys의 'nutrients'에 해당하는 데이터\n",
        "\n",
        "nutrients.columns"
      ],
      "execution_count": 54,
      "outputs": [
        {
          "output_type": "execute_result",
          "data": {
            "text/plain": [
              "Index(['nutrient', 'nutgroup', 'units', 'value', 'id'], dtype='object')"
            ]
          },
          "metadata": {
            "tags": []
          },
          "execution_count": 54
        }
      ]
    },
    {
      "metadata": {
        "id": "um91MvnEPm-B",
        "colab_type": "text"
      },
      "cell_type": "markdown",
      "source": [
        "그럼 info와 nutrients를 합쳐서 완전체를 구성해보자."
      ]
    },
    {
      "metadata": {
        "id": "qMKwINTYPT7h",
        "colab_type": "code",
        "colab": {
          "base_uri": "https://localhost:8080/",
          "height": 251
        },
        "outputId": "60a0ffa7-b6b1-4027-a954-f997154a6f1d"
      },
      "cell_type": "code",
      "source": [
        "ndata = pd.merge(nutrients, info, on='id', how='outer')\n",
        "\n",
        "ndata.info()"
      ],
      "execution_count": 55,
      "outputs": [
        {
          "output_type": "stream",
          "text": [
            "<class 'pandas.core.frame.DataFrame'>\n",
            "Int64Index: 375176 entries, 0 to 375175\n",
            "Data columns (total 8 columns):\n",
            "nutrient        375176 non-null object\n",
            "nutgroup        375176 non-null object\n",
            "units           375176 non-null object\n",
            "value           375176 non-null float64\n",
            "id              375176 non-null int64\n",
            "food            375176 non-null object\n",
            "fgroup          375176 non-null object\n",
            "manufacturer    293054 non-null object\n",
            "dtypes: float64(1), int64(1), object(6)\n",
            "memory usage: 25.8+ MB\n"
          ],
          "name": "stdout"
        }
      ]
    },
    {
      "metadata": {
        "id": "Cx0HJxV3P2Cs",
        "colab_type": "code",
        "colab": {
          "base_uri": "https://localhost:8080/",
          "height": 179
        },
        "outputId": "28b8c15c-6eda-432f-de74-e9543b413cdf"
      },
      "cell_type": "code",
      "source": [
        "ndata.iloc[30000]"
      ],
      "execution_count": 56,
      "outputs": [
        {
          "output_type": "execute_result",
          "data": {
            "text/plain": [
              "nutrient                                       Glycine\n",
              "nutgroup                                   Amino Acids\n",
              "units                                                g\n",
              "value                                             0.04\n",
              "id                                                6158\n",
              "food            Soup, tomato bisque, canned, condensed\n",
              "fgroup                      Soups, Sauces, and Gravies\n",
              "manufacturer                                          \n",
              "Name: 30000, dtype: object"
            ]
          },
          "metadata": {
            "tags": []
          },
          "execution_count": 56
        }
      ]
    },
    {
      "metadata": {
        "id": "QFjVRB7EQdRx",
        "colab_type": "code",
        "colab": {
          "base_uri": "https://localhost:8080/",
          "height": 204
        },
        "outputId": "a30823a4-e51c-4702-860f-6a30f78a10b5"
      },
      "cell_type": "code",
      "source": [
        "ndata.head()"
      ],
      "execution_count": 57,
      "outputs": [
        {
          "output_type": "execute_result",
          "data": {
            "text/html": [
              "<div>\n",
              "<style scoped>\n",
              "    .dataframe tbody tr th:only-of-type {\n",
              "        vertical-align: middle;\n",
              "    }\n",
              "\n",
              "    .dataframe tbody tr th {\n",
              "        vertical-align: top;\n",
              "    }\n",
              "\n",
              "    .dataframe thead th {\n",
              "        text-align: right;\n",
              "    }\n",
              "</style>\n",
              "<table border=\"1\" class=\"dataframe\">\n",
              "  <thead>\n",
              "    <tr style=\"text-align: right;\">\n",
              "      <th></th>\n",
              "      <th>nutrient</th>\n",
              "      <th>nutgroup</th>\n",
              "      <th>units</th>\n",
              "      <th>value</th>\n",
              "      <th>id</th>\n",
              "      <th>food</th>\n",
              "      <th>fgroup</th>\n",
              "      <th>manufacturer</th>\n",
              "    </tr>\n",
              "  </thead>\n",
              "  <tbody>\n",
              "    <tr>\n",
              "      <th>0</th>\n",
              "      <td>Protein</td>\n",
              "      <td>Composition</td>\n",
              "      <td>g</td>\n",
              "      <td>25.18</td>\n",
              "      <td>1008</td>\n",
              "      <td>Cheese, caraway</td>\n",
              "      <td>Dairy and Egg Products</td>\n",
              "      <td></td>\n",
              "    </tr>\n",
              "    <tr>\n",
              "      <th>1</th>\n",
              "      <td>Total lipid (fat)</td>\n",
              "      <td>Composition</td>\n",
              "      <td>g</td>\n",
              "      <td>29.20</td>\n",
              "      <td>1008</td>\n",
              "      <td>Cheese, caraway</td>\n",
              "      <td>Dairy and Egg Products</td>\n",
              "      <td></td>\n",
              "    </tr>\n",
              "    <tr>\n",
              "      <th>2</th>\n",
              "      <td>Carbohydrate, by difference</td>\n",
              "      <td>Composition</td>\n",
              "      <td>g</td>\n",
              "      <td>3.06</td>\n",
              "      <td>1008</td>\n",
              "      <td>Cheese, caraway</td>\n",
              "      <td>Dairy and Egg Products</td>\n",
              "      <td></td>\n",
              "    </tr>\n",
              "    <tr>\n",
              "      <th>3</th>\n",
              "      <td>Ash</td>\n",
              "      <td>Other</td>\n",
              "      <td>g</td>\n",
              "      <td>3.28</td>\n",
              "      <td>1008</td>\n",
              "      <td>Cheese, caraway</td>\n",
              "      <td>Dairy and Egg Products</td>\n",
              "      <td></td>\n",
              "    </tr>\n",
              "    <tr>\n",
              "      <th>4</th>\n",
              "      <td>Energy</td>\n",
              "      <td>Energy</td>\n",
              "      <td>kcal</td>\n",
              "      <td>376.00</td>\n",
              "      <td>1008</td>\n",
              "      <td>Cheese, caraway</td>\n",
              "      <td>Dairy and Egg Products</td>\n",
              "      <td></td>\n",
              "    </tr>\n",
              "  </tbody>\n",
              "</table>\n",
              "</div>"
            ],
            "text/plain": [
              "                      nutrient     nutgroup units   value    id  \\\n",
              "0                      Protein  Composition     g   25.18  1008   \n",
              "1            Total lipid (fat)  Composition     g   29.20  1008   \n",
              "2  Carbohydrate, by difference  Composition     g    3.06  1008   \n",
              "3                          Ash        Other     g    3.28  1008   \n",
              "4                       Energy       Energy  kcal  376.00  1008   \n",
              "\n",
              "              food                  fgroup manufacturer  \n",
              "0  Cheese, caraway  Dairy and Egg Products               \n",
              "1  Cheese, caraway  Dairy and Egg Products               \n",
              "2  Cheese, caraway  Dairy and Egg Products               \n",
              "3  Cheese, caraway  Dairy and Egg Products               \n",
              "4  Cheese, caraway  Dairy and Egg Products               "
            ]
          },
          "metadata": {
            "tags": []
          },
          "execution_count": 57
        }
      ]
    },
    {
      "metadata": {
        "id": "zfGIsBKTQD4W",
        "colab_type": "text"
      },
      "cell_type": "markdown",
      "source": [
        "시각화는 다른 chapter에서 상세하게 다루지만,\n",
        "\n",
        "일단, 음식 그룹과 영양소의 종류별 중간 값을 그래프로 그려내면, "
      ]
    },
    {
      "metadata": {
        "id": "3bQH66wiP7Wq",
        "colab_type": "code",
        "colab": {}
      },
      "cell_type": "code",
      "source": [
        "result = ndata.groupby(['nutrient', 'fgroup'])['value'].quantile(0.5)"
      ],
      "execution_count": 0,
      "outputs": []
    },
    {
      "metadata": {
        "id": "jOc-L_30QpGq",
        "colab_type": "code",
        "colab": {
          "base_uri": "https://localhost:8080/",
          "height": 143
        },
        "outputId": "2c54635a-80c4-4d6b-b993-d81cc56ae9f2"
      },
      "cell_type": "code",
      "source": [
        "result.head()"
      ],
      "execution_count": 60,
      "outputs": [
        {
          "output_type": "execute_result",
          "data": {
            "text/plain": [
              "nutrient          fgroup                           \n",
              "Adjusted Protein  Sweets                               12.900\n",
              "                  Vegetables and Vegetable Products     2.180\n",
              "Alanine           Baby Foods                            0.085\n",
              "                  Baked Products                        0.248\n",
              "                  Beef Products                         1.550\n",
              "Name: value, dtype: float64"
            ]
          },
          "metadata": {
            "tags": []
          },
          "execution_count": 60
        }
      ]
    },
    {
      "metadata": {
        "id": "sWyWFHdDQyAc",
        "colab_type": "code",
        "colab": {
          "base_uri": "https://localhost:8080/",
          "height": 287
        },
        "outputId": "8360bcd7-7e6b-4b23-d554-283d936e08ac"
      },
      "cell_type": "code",
      "source": [
        "# Zinc, Zn 아연이 들어간 음식 그룹의 정황을 살펴보려면, \n",
        "\n",
        "result['Zinc, Zn'].sort_values().plot(kind='barh')"
      ],
      "execution_count": 62,
      "outputs": [
        {
          "output_type": "execute_result",
          "data": {
            "text/plain": [
              "<matplotlib.axes._subplots.AxesSubplot at 0x7f4c2a331a20>"
            ]
          },
          "metadata": {
            "tags": []
          },
          "execution_count": 62
        },
        {
          "output_type": "display_data",
          "data": {
            "image/png": "[encoded data removed]",
            "text/plain": [
              "<Figure size 432x288 with 1 Axes>"
            ]
          },
          "metadata": {
            "tags": []
          }
        }
      ]
    },
    {
      "metadata": {
        "id": "A6hPVOXSRHCU",
        "colab_type": "code",
        "colab": {
          "base_uri": "https://localhost:8080/",
          "height": 91
        },
        "outputId": "75cd3531-d049-4d42-8c01-57d50293571c"
      },
      "cell_type": "code",
      "source": [
        "# 다른 index 도 확인하고 싶다면, \n",
        "\n",
        "result.index"
      ],
      "execution_count": 63,
      "outputs": [
        {
          "output_type": "execute_result",
          "data": {
            "text/plain": [
              "MultiIndex(levels=[['Adjusted Protein', 'Alanine', 'Alcohol, ethyl', 'Arginine', 'Ash', 'Aspartic acid', 'Beta-sitosterol', 'Betaine', 'Caffeine', 'Calcium, Ca', 'Campesterol', 'Carbohydrate, by difference', 'Carotene, alpha', 'Carotene, beta', 'Cholesterol', 'Choline, total', 'Copper, Cu', 'Cryptoxanthin, beta', 'Cystine', 'Dihydrophylloquinone', 'Energy', 'Fatty acids, total monounsaturated', 'Fatty acids, total polyunsaturated', 'Fatty acids, total saturated', 'Fatty acids, total trans', 'Fatty acids, total trans-monoenoic', 'Fatty acids, total trans-polyenoic', 'Fiber, total dietary', 'Fluoride, F', 'Folate, DFE', 'Folate, food', 'Folate, total', 'Folic acid', 'Fructose', 'Galactose', 'Glucose (dextrose)', 'Glutamic acid', 'Glycine', 'Histidine', 'Hydroxyproline', 'Iron, Fe', 'Isoleucine', 'Lactose', 'Leucine', 'Lutein + zeaxanthin', 'Lycopene', 'Lysine', 'Magnesium, Mg', 'Maltose', 'Manganese, Mn', 'Menaquinone-4', 'Methionine', 'Niacin', 'Pantothenic acid', 'Phenylalanine', 'Phosphorus, P', 'Phytosterols', 'Potassium, K', 'Proline', 'Protein', 'Retinol', 'Riboflavin', 'Selenium, Se', 'Serine', 'Sodium, Na', 'Starch', 'Stigmasterol', 'Sucrose', 'Sugars, total', 'Theobromine', 'Thiamin', 'Threonine', 'Tocopherol, beta', 'Tocopherol, delta', 'Tocopherol, gamma', 'Total lipid (fat)', 'Tryptophan', 'Tyrosine', 'Valine', 'Vitamin A, IU', 'Vitamin A, RAE', 'Vitamin B-12', 'Vitamin B-12, added', 'Vitamin B-6', 'Vitamin C, total ascorbic acid', 'Vitamin D', 'Vitamin D (D2 + D3)', 'Vitamin D2 (ergocalciferol)', 'Vitamin D3 (cholecalciferol)', 'Vitamin E (alpha-tocopherol)', 'Vitamin E, added', 'Vitamin K (phylloquinone)', 'Water', 'Zinc, Zn'], ['Baby Foods', 'Baked Products', 'Beef Products', 'Beverages', 'Breakfast Cereals', 'Cereal Grains and Pasta', 'Dairy and Egg Products', 'Ethnic Foods', 'Fast Foods', 'Fats and Oils', 'Finfish and Shellfish Products', 'Fruits and Fruit Juices', 'Lamb, Veal, and Game Products', 'Legumes and Legume Products', 'Meals, Entrees, and Sidedishes', 'Nut and Seed Products', 'Pork Products', 'Poultry Products', 'Restaurant Foods', 'Sausages and Luncheon Meats', 'Snacks', 'Soups, Sauces, and Gravies', 'Spices and Herbs', 'Sweets', 'Vegetables and Vegetable Products']],\n",
              "           codes=[[0, 0, 1, 1, 1, 1, 1, 1, 1, 1, 1, 1, 1, 1, 1, 1, 1, 1, 1, 1, 1, 1, 1, 1, 1, 1, 1, 2, 2, 2, 2, 2, 2, 2, 2, 2, 2, 2, 2, 2, 2, 2, 2, 2, 2, 2, 2, 2, 2, 2, 2, 2, 3, 3, 3, 3, 3, 3, 3, 3, 3, 3, 3, 3, 3, 3, 3, 3, 3, 3, 3, 3, 3, 3, 3, 3, 3, 4, 4, 4, 4, 4, 4, 4, 4, 4, 4, 4, 4, 4, 4, 4, 4, 4, 4, 4, 4, 4, 4, 4, 4, 4, 5, 5, 5, 5, 5, 5, 5, 5, 5, 5, 5, 5, 5, 5, 5, 5, 5, 5, 5, 5, 5, 5, 5, 5, 5, 6, 6, 6, 6, 6, 6, 6, 6, 6, 6, 6, 6, 7, 7, 7, 7, 7, 7, 7, 7, 7, 7, 7, 7, 7, 7, 7, 7, 7, 7, 7, 7, 7, 7, 7, 7, 7, 8, 8, 8, 8, 8, 8, 8, 8, 8, 8, 8, 8, 8, 8, 8, 8, 8, 8, 8, 8, 8, 8, 8, 8, 8, 9, 9, 9, 9, 9, 9, 9, 9, 9, 9, 9, 9, 9, 9, 9, 9, 9, 9, 9, 9, 9, 9, 9, 9, 9, 10, 10, 10, 10, 10, 10, 10, 10, 10, 10, 10, 10, 11, 11, 11, 11, 11, 11, 11, 11, 11, 11, 11, 11, 11, 11, 11, 11, 11, 11, 11, 11, 11, 11, 11, 11, 11, 12, 12, 12, 12, 12, 12, 12, 12, 12, 12, 12, 12, 12, 12, 12, 12, 12, 12, 12, 12, 12, 12, 12, 12, 12, 13, 13, 13, 13, 13, 13, 13, 13, 13, 13, 13, 13, 13, 13, 13, 13, 13, 13, 13, 13, 13, 13, 13, 13, 13, 14, 14, 14, 14, 14, 14, 14, 14, 14, 14, 14, 14, 14, 14, 14, 14, 14, 14, 14, 14, 14, 14, 14, 14, 14, 15, 15, 15, 15, 15, 15, 15, 15, 15, 15, 15, 15, 15, 15, 15, 15, 15, 15, 15, 15, 15, 15, 15, 15, 15, 16, 16, 16, 16, 16, 16, 16, 16, 16, 16, 16, 16, 16, 16, 16, 16, 16, 16, 16, 16, 16, 16, 16, 16, 16, 17, 17, 17, 17, 17, 17, 17, 17, 17, 17, 17, 17, 17, 17, 17, 17, 17, 17, 17, 17, 17, 17, 17, 17, 17, 18, 18, 18, 18, 18, 18, 18, 18, 18, 18, 18, 18, 18, 18, 18, 18, 18, 18, 18, 18, 18, 18, 18, 18, 18, 19, 19, 19, 19, 19, 19, 19, 19, 19, 19, 19, 19, 19, 19, 19, 19, 19, 19, 19, 19, 19, 19, 19, 19, 19, 20, 20, 20, 20, 20, 20, 20, 20, 20, 20, 20, 20, 20, 20, 20, 20, 20, 20, 20, 20, 20, 20, 20, 20, 20, 21, 21, 21, 21, 21, 21, 21, 21, 21, 21, 21, 21, 21, 21, 21, 21, 21, 21, 21, 21, 21, 21, 21, 21, 21, 22, 22, 22, 22, 22, 22, 22, 22, 22, 22, 22, 22, 22, 22, 22, 22, 22, 22, 22, 22, 22, 22, 22, 22, 22, 23, 23, 23, 23, 23, 23, 23, 23, 23, 23, 23, 23, 23, 23, 23, 23, 23, 23, 23, 23, 23, 23, 23, 23, 23, 24, 24, 24, 24, 24, 24, 24, 24, 24, 24, 24, 24, 24, 24, 24, 24, 24, 24, 24, 24, 24, 24, 24, 24, 24, 25, 25, 25, 25, 25, 25, 25, 25, 25, 25, 25, 25, 25, 25, 25, 25, 25, 25, 25, 25, 25, 25, 25, 26, 26, 26, 26, 26, 26, 26, 26, 26, 26, 26, 26, 26, 26, 26, 26, 26, 26, 26, 26, 26, 26, 27, 27, 27, 27, 27, 27, 27, 27, 27, 27, 27, 27, 27, 27, 27, 27, 27, 27, 27, 27, 27, 27, 27, 27, 27, 28, 28, 28, 28, 28, 28, 28, 28, 28, 28, 28, 28, 28, 28, 28, 28, 28, 28, 28, 28, 28, 28, 28, 29, 29, 29, 29, 29, 29, 29, 29, 29, 29, 29, 29, 29, 29, 29, 29, 29, 29, 29, 29, 29, 29, 29, 29, 29, 30, 30, 30, 30, 30, 30, 30, 30, 30, 30, 30, 30, 30, 30, 30, 30, 30, 30, 30, 30, 30, 30, 30, 30, 30, 31, 31, 31, 31, 31, 31, 31, 31, 31, 31, 31, 31, 31, 31, 31, 31, 31, 31, 31, 31, 31, 31, 31, 31, 31, 32, 32, 32, 32, 32, 32, 32, 32, 32, 32, 32, 32, 32, 32, 32, 32, 32, 32, 32, 32, 32, 32, 32, 32, 32, 33, 33, 33, 33, 33, 33, 33, 33, 33, 33, 33, 33, 33, 33, 33, 33, 33, 33, 33, 33, 33, 33, 33, 33, 33, 34, 34, 34, 34, 34, 34, 34, 34, 34, 34, 34, 34, 34, 34, 34, 34, 34, 34, 34, 34, 34, 34, 34, 34, 34, 35, 35, 35, 35, 35, 35, 35, 35, 35, 35, 35, 35, 35, 35, 35, 35, 35, 35, 35, 35, 35, 35, 35, 35, 35, 36, 36, 36, 36, 36, 36, 36, 36, 36, 36, 36, 36, 36, 36, 36, 36, 36, 36, 36, 36, 36, 36, 36, 36, 36, 37, 37, 37, 37, 37, 37, 37, 37, 37, 37, 37, 37, 37, 37, 37, 37, 37, 37, 37, 37, 37, 37, 37, 37, 37, 38, 38, 38, 38, 38, 38, 38, 38, 38, 38, 38, 38, 38, 38, 38, 38, 38, 38, 38, 38, 38, 38, 38, 38, 38, 39, 39, 39, 39, 39, 39, 39, 39, 39, 39, 39, 39, 39, 39, 39, 39, 39, 39, 39, 39, 39, 39, 39, 39, 40, 40, 40, 40, 40, 40, 40, 40, 40, 40, 40, 40, 40, 40, 40, 40, 40, 40, 40, 40, 40, 40, 40, 40, 40, 41, 41, 41, 41, 41, 41, 41, 41, 41, 41, 41, 41, 41, 41, 41, 41, 41, 41, 41, 41, 41, 41, 41, 41, 41, 42, 42, 42, 42, 42, 42, 42, 42, 42, 42, 42, 42, 42, 42, 42, 42, 42, 42, 42, 42, 42, 42, 42, 42, 42, 43, 43, 43, 43, 43, 43, 43, 43, 43, 43, 43, 43, 43, 43, 43, 43, 43, 43, 43, 43, 43, 43, 43, 43, 43, 44, 44, 44, 44, 44, 44, 44, 44, 44, 44, 44, 44, 44, 44, 44, 44, 44, 44, 44, 44, 44, 44, 44, 44, 44, 45, 45, 45, 45, 45, 45, 45, 45, 45, 45, 45, 45, 45, 45, 45, 45, 45, 45, 45, 45, 45, 45, 45, 45, 45, 46, 46, 46, 46, 46, 46, 46, 46, 46, 46, 46, 46, 46, 46, 46, 46, 46, 46, 46, 46, 46, 46, 46, 46, 46, 47, 47, 47, 47, 47, 47, 47, 47, 47, 47, 47, 47, 47, 47, 47, 47, 47, 47, 47, 47, 47, 47, 47, 47, 47, 48, 48, 48, 48, 48, 48, 48, 48, 48, 48, 48, 48, 48, 48, 48, 48, 48, 48, 48, 48, 48, 48, 48, 48, 48, 49, 49, 49, 49, 49, 49, 49, 49, 49, 49, 49, 49, 49, 49, 49, 49, 49, 49, 49, 49, 49, 49, 49, 49, 49, 50, 50, 50, 50, 50, 50, 50, 50, 50, 50, 50, 50, 50, 50, 50, 50, 50, 50, 50, 50, 50, 50, 50, 51, 51, 51, 51, 51, 51, 51, 51, 51, 51, 51, 51, 51, 51, 51, 51, 51, 51, 51, 51, 51, 51, 51, 51, 51, 52, 52, 52, 52, 52, 52, 52, 52, 52, 52, 52, 52, 52, 52, 52, 52, 52, 52, 52, 52, 52, 52, 52, 52, 52, 53, 53, 53, 53, 53, 53, 53, 53, 53, 53, 53, 53, 53, 53, 53, 53, 53, 53, 53, 53, 53, 53, 53, 53, 53, 54, 54, 54, 54, 54, 54, 54, 54, 54, 54, 54, 54, 54, 54, 54, 54, 54, 54, 54, 54, 54, 54, 54, 54, 54, 55, 55, 55, 55, 55, 55, 55, 55, 55, 55, 55, 55, 55, 55, 55, 55, 55, 55, 55, 55, 55, 55, 55, 55, 55, 56, 56, 56, 56, 56, 56, 56, 56, 56, 56, 56, 56, 56, 56, 56, 56, 56, 56, 56, 56, 56, 56, 56, 57, 57, 57, 57, 57, 57, 57, 57, 57, 57, 57, 57, 57, 57, 57, 57, 57, 57, 57, 57, 57, 57, 57, 57, 57, 58, 58, 58, 58, 58, 58, 58, 58, 58, 58, 58, 58, 58, 58, 58, 58, 58, 58, 58, 58, 58, 58, 58, 58, 58, 59, 59, 59, 59, 59, 59, 59, 59, 59, 59, 59, 59, 59, 59, 59, 59, 59, 59, 59, 59, 59, 59, 59, 59, 59, 60, 60, 60, 60, 60, 60, 60, 60, 60, 60, 60, 60, 60, 60, 60, 60, 60, 60, 60, 60, 60, 60, 60, 60, 60, 61, 61, 61, 61, 61, 61, 61, 61, 61, 61, 61, 61, 61, 61, 61, 61, 61, 61, 61, 61, 61, 61, 61, 61, 61, 62, 62, 62, 62, 62, 62, 62, 62, 62, 62, 62, 62, 62, 62, 62, 62, 62, 62, 62, 62, 62, 62, 62, 62, 62, 63, 63, 63, 63, 63, 63, 63, 63, 63, 63, 63, 63, 63, 63, 63, 63, 63, 63, 63, 63, 63, 63, 63, 63, 63, 64, 64, 64, 64, 64, 64, 64, 64, 64, 64, 64, 64, 64, 64, 64, 64, 64, 64, 64, 64, 64, 64, 64, 64, 64, 65, 65, 65, 65, 65, 65, 65, 65, 65, 65, 65, 65, 65, 65, 65, 65, 65, 65, 65, 65, 65, 65, 65, 66, 66, 66, 66, 66, 66, 66, 66, 66, 66, 66, 66, 67, 67, 67, 67, 67, 67, 67, 67, 67, 67, 67, 67, 67, 67, 67, 67, 67, 67, 67, 67, 67, 67, 67, 67, 67, 68, 68, 68, 68, 68, 68, 68, 68, 68, 68, 68, 68, 68, 68, 68, 68, 68, 68, 68, 68, 68, 68, 68, 68, 68, 69, 69, 69, 69, 69, 69, 69, 69, 69, 69, 69, 69, 69, 69, 69, 69, 69, 69, 69, 69, 69, 69, 69, 69, 69, 70, 70, 70, 70, 70, 70, 70, 70, 70, 70, 70, 70, 70, 70, 70, 70, 70, 70, 70, 70, 70, 70, 70, 70, 70, 71, 71, 71, 71, 71, 71, 71, 71, 71, 71, 71, 71, 71, 71, 71, 71, 71, 71, 71, 71, 71, 71, 71, 71, 71, 72, 72, 72, 72, 72, 72, 72, 72, 72, 72, 72, 72, 72, 72, 72, 72, 72, 72, 72, 72, 72, 72, 72, 72, 72, 73, 73, 73, 73, 73, 73, 73, 73, 73, 73, 73, 73, 73, 73, 73, 73, 73, 73, 73, 73, 73, 73, 73, 73, 73, 74, 74, 74, 74, 74, 74, 74, 74, 74, 74, 74, 74, 74, 74, 74, 74, 74, 74, 74, 74, 74, 74, 74, 74, 74, 75, 75, 75, 75, 75, 75, 75, 75, 75, 75, 75, 75, 75, 75, 75, 75, 75, 75, 75, 75, 75, 75, 75, 75, 75, 76, 76, 76, 76, 76, 76, 76, 76, 76, 76, 76, 76, 76, 76, 76, 76, 76, 76, 76, 76, 76, 76, 76, 76, 76, 77, 77, 77, 77, 77, 77, 77, 77, 77, 77, 77, 77, 77, 77, 77, 77, 77, 77, 77, 77, 77, 77, 77, 77, 77, 78, 78, 78, 78, 78, 78, 78, 78, 78, 78, 78, 78, 78, 78, 78, 78, 78, 78, 78, 78, 78, 78, 78, 78, 78, 79, 79, 79, 79, 79, 79, 79, 79, 79, 79, 79, 79, 79, 79, 79, 79, 79, 79, 79, 79, 79, 79, 79, 79, 79, 80, 80, 80, 80, 80, 80, 80, 80, 80, 80, 80, 80, 80, 80, 80, 80, 80, 80, 80, 80, 80, 80, 80, 80, 80, 81, 81, 81, 81, 81, 81, 81, 81, 81, 81, 81, 81, 81, 81, 81, 81, 81, 81, 81, 81, 81, 81, 81, 81, 81, 82, 82, 82, 82, 82, 82, 82, 82, 82, 82, 82, 82, 82, 82, 82, 82, 82, 82, 82, 82, 82, 82, 82, 82, 82, 83, 83, 83, 83, 83, 83, 83, 83, 83, 83, 83, 83, 83, 83, 83, 83, 83, 83, 83, 83, 83, 83, 83, 83, 83, 84, 84, 84, 84, 84, 84, 84, 84, 84, 84, 84, 84, 84, 84, 84, 84, 84, 84, 84, 84, 84, 84, 84, 84, 84, 85, 85, 85, 85, 85, 85, 85, 85, 85, 85, 85, 85, 85, 85, 85, 85, 85, 85, 85, 85, 85, 85, 85, 85, 85, 86, 86, 86, 86, 86, 86, 86, 86, 86, 86, 86, 86, 86, 86, 86, 86, 86, 86, 86, 86, 86, 86, 86, 86, 86, 87, 87, 87, 87, 88, 88, 88, 88, 88, 88, 88, 88, 88, 88, 88, 88, 88, 88, 88, 88, 88, 88, 89, 89, 89, 89, 89, 89, 89, 89, 89, 89, 89, 89, 89, 89, 89, 89, 89, 89, 89, 89, 89, 89, 89, 89, 89, 90, 90, 90, 90, 90, 90, 90, 90, 90, 90, 90, 90, 90, 90, 90, 90, 90, 90, 90, 90, 90, 90, 90, 90, 90, 91, 91, 91, 91, 91, 91, 91, 91, 91, 91, 91, 91, 91, 91, 91, 91, 91, 91, 91, 91, 91, 91, 91, 91, 91, 92, 92, 92, 92, 92, 92, 92, 92, 92, 92, 92, 92, 92, 92, 92, 92, 92, 92, 92, 92, 92, 92, 92, 92, 92, 93, 93, 93, 93, 93, 93, 93, 93, 93, 93, 93, 93, 93, 93, 93, 93, 93, 93, 93, 93, 93, 93, 93, 93, 93], [23, 24, 0, 1, 2, 3, 4, 5, 6, 7, 8, 9, 10, 11, 12, 13, 14, 15, 16, 17, 18, 19, 20, 21, 22, 23, 24, 0, 1, 2, 3, 4, 5, 6, 7, 8, 9, 10, 11, 12, 13, 14, 15, 16, 17, 18, 19, 20, 21, 22, 23, 24, 0, 1, 2, 3, 4, 5, 6, 7, 8, 9, 10, 11, 12, 13, 14, 15, 16, 17, 18, 19, 20, 21, 22, 23, 24, 0, 1, 2, 3, 4, 5, 6, 7, 8, 9, 10, 11, 12, 13, 14, 15, 16, 17, 18, 19, 20, 21, 22, 23, 24, 0, 1, 2, 3, 4, 5, 6, 7, 8, 9, 10, 11, 12, 13, 14, 15, 16, 17, 18, 19, 20, 21, 22, 23, 24, 0, 1, 6, 7, 9, 11, 13, 15, 18, 20, 23, 24, 0, 1, 2, 3, 4, 5, 6, 7, 8, 9, 10, 11, 12, 13, 14, 15, 16, 17, 18, 19, 20, 21, 22, 23, 24, 0, 1, 2, 3, 4, 5, 6, 7, 8, 9, 10, 11, 12, 13, 14, 15, 16, 17, 18, 19, 20, 21, 22, 23, 24, 0, 1, 2, 3, 4, 5, 6, 7, 8, 9, 10, 11, 12, 13, 14, 15, 16, 17, 18, 19, 20, 21, 22, 23, 24, 0, 1, 6, 7, 9, 11, 13, 15, 18, 20, 23, 24, 0, 1, 2, 3, 4, 5, 6, 7, 8, 9, 10, 11, 12, 13, 14, 15, 16, 17, 18, 19, 20, 21, 22, 23, 24, 0, 1, 2, 3, 4, 5, 6, 7, 8, 9, 10, 11, 12, 13, 14, 15, 16, 17, 18, 19, 20, 21, 22, 23, 24, 0, 1, 2, 3, 4, 5, 6, 7, 8, 9, 10, 11, 12, 13, 14, 15, 16, 17, 18, 19, 20, 21, 22, 23, 24, 0, 1, 2, 3, 4, 5, 6, 7, 8, 9, 10, 11, 12, 13, 14, 15, 16, 17, 18, 19, 20, 21, 22, 23, 24, 0, 1, 2, 3, 4, 5, 6, 7, 8, 9, 10, 11, 12, 13, 14, 15, 16, 17, 18, 19, 20, 21, 22, 23, 24, 0, 1, 2, 3, 4, 5, 6, 7, 8, 9, 10, 11, 12, 13, 14, 15, 16, 17, 18, 19, 20, 21, 22, 23, 24, 0, 1, 2, 3, 4, 5, 6, 7, 8, 9, 10, 11, 12, 13, 14, 15, 16, 17, 18, 19, 20, 21, 22, 23, 24, 0, 1, 2, 3, 4, 5, 6, 7, 8, 9, 10, 11, 12, 13, 14, 15, 16, 17, 18, 19, 20, 21, 22, 23, 24, 0, 1, 2, 3, 4, 5, 6, 7, 8, 9, 10, 11, 12, 13, 14, 15, 16, 17, 18, 19, 20, 21, 22, 23, 24, 0, 1, 2, 3, 4, 5, 6, 7, 8, 9, 10, 11, 12, 13, 14, 15, 16, 17, 18, 19, 20, 21, 22, 23, 24, 0, 1, 2, 3, 4, 5, 6, 7, 8, 9, 10, 11, 12, 13, 14, 15, 16, 17, 18, 19, 20, 21, 22, 23, 24, 0, 1, 2, 3, 4, 5, 6, 7, 8, 9, 10, 11, 12, 13, 14, 15, 16, 17, 18, 19, 20, 21, 22, 23, 24, 0, 1, 2, 3, 4, 5, 6, 7, 8, 9, 10, 11, 12, 13, 14, 15, 16, 17, 18, 19, 20, 21, 22, 23, 24, 0, 1, 2, 3, 4, 5, 6, 7, 8, 9, 10, 11, 12, 13, 14, 15, 16, 17, 18, 19, 20, 21, 22, 23, 24, 1, 2, 3, 4, 5, 6, 7, 8, 9, 10, 11, 13, 14, 15, 16, 17, 18, 19, 20, 21, 22, 23, 24, 1, 2, 3, 4, 5, 6, 7, 8, 9, 10, 11, 13, 14, 15, 16, 17, 18, 19, 20, 21, 23, 24, 0, 1, 2, 3, 4, 5, 6, 7, 8, 9, 10, 11, 12, 13, 14, 15, 16, 17, 18, 19, 20, 21, 22, 23, 24, 0, 1, 2, 3, 4, 5, 6, 8, 9, 10, 11, 12, 13, 14, 15, 16, 17, 19, 20, 21, 22, 23, 24, 0, 1, 2, 3, 4, 5, 6, 7, 8, 9, 10, 11, 12, 13, 14, 15, 16, 17, 18, 19, 20, 21, 22, 23, 24, 0, 1, 2, 3, 4, 5, 6, 7, 8, 9, 10, 11, 12, 13, 14, 15, 16, 17, 18, 19, 20, 21, 22, 23, 24, 0, 1, 2, 3, 4, 5, 6, 7, 8, 9, 10, 11, 12, 13, 14, 15, 16, 17, 18, 19, 20, 21, 22, 23, 24, 0, 1, 2, 3, 4, 5, 6, 7, 8, 9, 10, 11, 12, 13, 14, 15, 16, 17, 18, 19, 20, 21, 22, 23, 24, 0, 1, 2, 3, 4, 5, 6, 7, 8, 9, 10, 11, 12, 13, 14, 15, 16, 17, 18, 19, 20, 21, 22, 23, 24, 0, 1, 2, 3, 4, 5, 6, 7, 8, 9, 10, 11, 12, 13, 14, 15, 16, 17, 18, 19, 20, 21, 22, 23, 24, 0, 1, 2, 3, 4, 5, 6, 7, 8, 9, 10, 11, 12, 13, 14, 15, 16, 17, 18, 19, 20, 21, 22, 23, 24, 0, 1, 2, 3, 4, 5, 6, 7, 8, 9, 10, 11, 12, 13, 14, 15, 16, 17, 18, 19, 20, 21, 22, 23, 24, 0, 1, 2, 3, 4, 5, 6, 7, 8, 9, 10, 11, 12, 13, 14, 15, 16, 17, 18, 19, 20, 21, 22, 23, 24, 0, 1, 2, 3, 4, 5, 6, 7, 8, 9, 10, 11, 12, 13, 14, 15, 16, 17, 18, 19, 20, 21, 22, 23, 24, 0, 1, 2, 3, 4, 5, 6, 7, 8, 9, 10, 12, 13, 14, 15, 16, 17, 18, 19, 20, 21, 22, 23, 24, 0, 1, 2, 3, 4, 5, 6, 7, 8, 9, 10, 11, 12, 13, 14, 15, 16, 17, 18, 19, 20, 21, 22, 23, 24, 0, 1, 2, 3, 4, 5, 6, 7, 8, 9, 10, 11, 12, 13, 14, 15, 16, 17, 18, 19, 20, 21, 22, 23, 24, 0, 1, 2, 3, 4, 5, 6, 7, 8, 9, 10, 11, 12, 13, 14, 15, 16, 17, 18, 19, 20, 21, 22, 23, 24, 0, 1, 2, 3, 4, 5, 6, 7, 8, 9, 10, 11, 12, 13, 14, 15, 16, 17, 18, 19, 20, 21, 22, 23, 24, 0, 1, 2, 3, 4, 5, 6, 7, 8, 9, 10, 11, 12, 13, 14, 15, 16, 17, 18, 19, 20, 21, 22, 23, 24, 0, 1, 2, 3, 4, 5, 6, 7, 8, 9, 10, 11, 12, 13, 14, 15, 16, 17, 18, 19, 20, 21, 22, 23, 24, 0, 1, 2, 3, 4, 5, 6, 7, 8, 9, 10, 11, 12, 13, 14, 15, 16, 17, 18, 19, 20, 21, 22, 23, 24, 0, 1, 2, 3, 4, 5, 6, 7, 8, 9, 10, 11, 12, 13, 14, 15, 16, 17, 18, 19, 20, 21, 22, 23, 24, 0, 1, 2, 3, 4, 5, 6, 7, 8, 9, 10, 11, 12, 13, 14, 15, 16, 17, 18, 19, 20, 21, 22, 23, 24, 0, 1, 2, 3, 4, 5, 6, 7, 8, 9, 10, 11, 12, 13, 14, 15, 16, 17, 18, 19, 20, 21, 22, 23, 24, 0, 1, 2, 3, 4, 5, 6, 7, 8, 9, 10, 11, 14, 15, 16, 17, 18, 19, 20, 21, 22, 23, 24, 0, 1, 2, 3, 4, 5, 6, 7, 8, 9, 10, 11, 12, 13, 14, 15, 16, 17, 18, 19, 20, 21, 22, 23, 24, 0, 1, 2, 3, 4, 5, 6, 7, 8, 9, 10, 11, 12, 13, 14, 15, 16, 17, 18, 19, 20, 21, 22, 23, 24, 0, 1, 2, 3, 4, 5, 6, 7, 8, 9, 10, 11, 12, 13, 14, 15, 16, 17, 18, 19, 20, 21, 22, 23, 24, 0, 1, 2, 3, 4, 5, 6, 7, 8, 9, 10, 11, 12, 13, 14, 15, 16, 17, 18, 19, 20, 21, 22, 23, 24, 0, 1, 2, 3, 4, 5, 6, 7, 8, 9, 10, 11, 12, 13, 14, 15, 16, 17, 18, 19, 20, 21, 22, 23, 24, 1, 2, 3, 4, 5, 6, 7, 8, 9, 10, 11, 12, 13, 14, 15, 16, 17, 19, 20, 21, 22, 23, 24, 0, 1, 2, 3, 4, 5, 6, 7, 8, 9, 10, 11, 12, 13, 14, 15, 16, 17, 18, 19, 20, 21, 22, 23, 24, 0, 1, 2, 3, 4, 5, 6, 7, 8, 9, 10, 11, 12, 13, 14, 15, 16, 17, 18, 19, 20, 21, 22, 23, 24, 0, 1, 2, 3, 4, 5, 6, 7, 8, 9, 10, 11, 12, 13, 14, 15, 16, 17, 18, 19, 20, 21, 22, 23, 24, 0, 1, 2, 3, 4, 5, 6, 7, 8, 9, 10, 11, 12, 13, 14, 15, 16, 17, 18, 19, 20, 21, 22, 23, 24, 0, 1, 2, 3, 4, 5, 6, 7, 8, 9, 10, 11, 12, 13, 14, 15, 16, 17, 18, 19, 20, 21, 22, 23, 24, 0, 1, 2, 3, 4, 5, 6, 7, 8, 9, 10, 11, 12, 13, 14, 15, 16, 17, 18, 19, 20, 21, 22, 23, 24, 0, 1, 2, 3, 4, 5, 6, 7, 8, 9, 10, 11, 12, 13, 14, 15, 16, 17, 18, 19, 20, 21, 22, 23, 24, 0, 1, 2, 3, 4, 5, 6, 7, 8, 9, 10, 11, 12, 13, 14, 15, 16, 17, 18, 19, 20, 21, 22, 23, 24, 0, 1, 3, 4, 5, 6, 7, 8, 9, 10, 11, 12, 13, 14, 15, 17, 18, 19, 20, 21, 22, 23, 24, 0, 1, 6, 7, 9, 11, 13, 15, 18, 20, 23, 24, 0, 1, 2, 3, 4, 5, 6, 7, 8, 9, 10, 11, 12, 13, 14, 15, 16, 17, 18, 19, 20, 21, 22, 23, 24, 0, 1, 2, 3, 4, 5, 6, 7, 8, 9, 10, 11, 12, 13, 14, 15, 16, 17, 18, 19, 20, 21, 22, 23, 24, 0, 1, 2, 3, 4, 5, 6, 7, 8, 9, 10, 11, 12, 13, 14, 15, 16, 17, 18, 19, 20, 21, 22, 23, 24, 0, 1, 2, 3, 4, 5, 6, 7, 8, 9, 10, 11, 12, 13, 14, 15, 16, 17, 18, 19, 20, 21, 22, 23, 24, 0, 1, 2, 3, 4, 5, 6, 7, 8, 9, 10, 11, 12, 13, 14, 15, 16, 17, 18, 19, 20, 21, 22, 23, 24, 0, 1, 2, 3, 4, 5, 6, 7, 8, 9, 10, 11, 12, 13, 14, 15, 16, 17, 18, 19, 20, 21, 22, 23, 24, 0, 1, 2, 3, 4, 5, 6, 7, 8, 9, 10, 11, 12, 13, 14, 15, 16, 17, 18, 19, 20, 21, 22, 23, 24, 0, 1, 2, 3, 4, 5, 6, 7, 8, 9, 10, 11, 12, 13, 14, 15, 16, 17, 18, 19, 20, 21, 22, 23, 24, 0, 1, 2, 3, 4, 5, 6, 7, 8, 9, 10, 11, 12, 13, 14, 15, 16, 17, 18, 19, 20, 21, 22, 23, 24, 0, 1, 2, 3, 4, 5, 6, 7, 8, 9, 10, 11, 12, 13, 14, 15, 16, 17, 18, 19, 20, 21, 22, 23, 24, 0, 1, 2, 3, 4, 5, 6, 7, 8, 9, 10, 11, 12, 13, 14, 15, 16, 17, 18, 19, 20, 21, 22, 23, 24, 0, 1, 2, 3, 4, 5, 6, 7, 8, 9, 10, 11, 12, 13, 14, 15, 16, 17, 18, 19, 20, 21, 22, 23, 24, 0, 1, 2, 3, 4, 5, 6, 7, 8, 9, 10, 11, 12, 13, 14, 15, 16, 17, 18, 19, 20, 21, 22, 23, 24, 0, 1, 2, 3, 4, 5, 6, 7, 8, 9, 10, 11, 12, 13, 14, 15, 16, 17, 18, 19, 20, 21, 22, 23, 24, 0, 1, 2, 3, 4, 5, 6, 7, 8, 9, 10, 11, 12, 13, 14, 15, 16, 17, 18, 19, 20, 21, 22, 23, 24, 0, 1, 2, 3, 4, 5, 6, 7, 8, 9, 10, 11, 12, 13, 14, 15, 16, 17, 18, 19, 20, 21, 22, 23, 24, 0, 1, 2, 3, 4, 5, 6, 7, 8, 9, 10, 11, 12, 13, 14, 15, 16, 17, 18, 19, 20, 21, 22, 23, 24, 0, 1, 2, 3, 4, 5, 6, 7, 8, 9, 10, 11, 12, 13, 14, 15, 16, 17, 18, 19, 20, 21, 22, 23, 24, 0, 1, 2, 3, 4, 5, 6, 7, 8, 9, 10, 11, 12, 13, 14, 15, 16, 17, 18, 19, 20, 21, 22, 23, 24, 0, 1, 2, 3, 4, 5, 6, 7, 8, 9, 10, 11, 12, 13, 14, 15, 16, 17, 18, 19, 20, 21, 22, 23, 24, 3, 6, 13, 24, 0, 2, 4, 6, 8, 9, 10, 11, 12, 16, 17, 18, 19, 20, 21, 22, 23, 24, 0, 1, 2, 3, 4, 5, 6, 7, 8, 9, 10, 11, 12, 13, 14, 15, 16, 17, 18, 19, 20, 21, 22, 23, 24, 0, 1, 2, 3, 4, 5, 6, 7, 8, 9, 10, 11, 12, 13, 14, 15, 16, 17, 18, 19, 20, 21, 22, 23, 24, 0, 1, 2, 3, 4, 5, 6, 7, 8, 9, 10, 11, 12, 13, 14, 15, 16, 17, 18, 19, 20, 21, 22, 23, 24, 0, 1, 2, 3, 4, 5, 6, 7, 8, 9, 10, 11, 12, 13, 14, 15, 16, 17, 18, 19, 20, 21, 22, 23, 24, 0, 1, 2, 3, 4, 5, 6, 7, 8, 9, 10, 11, 12, 13, 14, 15, 16, 17, 18, 19, 20, 21, 22, 23, 24]],\n",
              "           names=['nutrient', 'fgroup'])"
            ]
          },
          "metadata": {
            "tags": []
          },
          "execution_count": 63
        }
      ]
    },
    {
      "metadata": {
        "id": "Gvnw9f0mRVMz",
        "colab_type": "code",
        "colab": {
          "base_uri": "https://localhost:8080/",
          "height": 503
        },
        "outputId": "d1deff82-25e8-4be5-af3b-216f99c2fb1c"
      },
      "cell_type": "code",
      "source": [
        "# zinc, zn 상세 정황을 보려면,\n",
        "result['Zinc, Zn']"
      ],
      "execution_count": 64,
      "outputs": [
        {
          "output_type": "execute_result",
          "data": {
            "text/plain": [
              "fgroup\n",
              "Baby Foods                           0.590\n",
              "Baked Products                       0.660\n",
              "Beef Products                        5.390\n",
              "Beverages                            0.040\n",
              "Breakfast Cereals                    2.885\n",
              "Cereal Grains and Pasta              1.090\n",
              "Dairy and Egg Products               1.390\n",
              "Ethnic Foods                         1.045\n",
              "Fast Foods                           1.250\n",
              "Fats and Oils                        0.020\n",
              "Finfish and Shellfish Products       0.670\n",
              "Fruits and Fruit Juices              0.100\n",
              "Lamb, Veal, and Game Products        3.940\n",
              "Legumes and Legume Products          1.140\n",
              "Meals, Entrees, and Sidedishes       0.630\n",
              "Nut and Seed Products                3.290\n",
              "Pork Products                        2.320\n",
              "Poultry Products                     2.500\n",
              "Restaurant Foods                     0.800\n",
              "Sausages and Luncheon Meats          2.130\n",
              "Snacks                               1.470\n",
              "Soups, Sauces, and Gravies           0.200\n",
              "Spices and Herbs                     2.750\n",
              "Sweets                               0.360\n",
              "Vegetables and Vegetable Products    0.330\n",
              "Name: value, dtype: float64"
            ]
          },
          "metadata": {
            "tags": []
          },
          "execution_count": 64
        }
      ]
    },
    {
      "metadata": {
        "id": "wfc27SxiRxtO",
        "colab_type": "text"
      },
      "cell_type": "markdown",
      "source": [
        "좀 더 응용해본다면, 각 영양소가 어떤 음식에 가장 많이 들어있는지 확인 가능"
      ]
    },
    {
      "metadata": {
        "id": "G3QtlggbRvYo",
        "colab_type": "code",
        "colab": {}
      },
      "cell_type": "code",
      "source": [
        "by_nutrient = ndata.groupby(['nutgroup', 'nutrient'])"
      ],
      "execution_count": 0,
      "outputs": []
    },
    {
      "metadata": {
        "id": "n6Fe__n0SV0t",
        "colab_type": "code",
        "colab": {}
      },
      "cell_type": "code",
      "source": [
        "get_maximum = lambda x: x.xs(x.value.idxmax())"
      ],
      "execution_count": 0,
      "outputs": []
    },
    {
      "metadata": {
        "id": "aY5QDfooSgNw",
        "colab_type": "code",
        "colab": {}
      },
      "cell_type": "code",
      "source": [
        "get_minimum = lambda x: x.xs(x.value.idxmin())"
      ],
      "execution_count": 0,
      "outputs": []
    },
    {
      "metadata": {
        "id": "Sn50cPyVTQcd",
        "colab_type": "code",
        "colab": {
          "base_uri": "https://localhost:8080/",
          "height": 204
        },
        "outputId": "00f5dd62-34fa-46a1-d3f7-ca15d25a10c5"
      },
      "cell_type": "code",
      "source": [
        "ndata.head()"
      ],
      "execution_count": 72,
      "outputs": [
        {
          "output_type": "execute_result",
          "data": {
            "text/html": [
              "<div>\n",
              "<style scoped>\n",
              "    .dataframe tbody tr th:only-of-type {\n",
              "        vertical-align: middle;\n",
              "    }\n",
              "\n",
              "    .dataframe tbody tr th {\n",
              "        vertical-align: top;\n",
              "    }\n",
              "\n",
              "    .dataframe thead th {\n",
              "        text-align: right;\n",
              "    }\n",
              "</style>\n",
              "<table border=\"1\" class=\"dataframe\">\n",
              "  <thead>\n",
              "    <tr style=\"text-align: right;\">\n",
              "      <th></th>\n",
              "      <th>nutrient</th>\n",
              "      <th>nutgroup</th>\n",
              "      <th>units</th>\n",
              "      <th>value</th>\n",
              "      <th>id</th>\n",
              "      <th>food</th>\n",
              "      <th>fgroup</th>\n",
              "      <th>manufacturer</th>\n",
              "    </tr>\n",
              "  </thead>\n",
              "  <tbody>\n",
              "    <tr>\n",
              "      <th>0</th>\n",
              "      <td>Protein</td>\n",
              "      <td>Composition</td>\n",
              "      <td>g</td>\n",
              "      <td>25.18</td>\n",
              "      <td>1008</td>\n",
              "      <td>Cheese, caraway</td>\n",
              "      <td>Dairy and Egg Products</td>\n",
              "      <td></td>\n",
              "    </tr>\n",
              "    <tr>\n",
              "      <th>1</th>\n",
              "      <td>Total lipid (fat)</td>\n",
              "      <td>Composition</td>\n",
              "      <td>g</td>\n",
              "      <td>29.20</td>\n",
              "      <td>1008</td>\n",
              "      <td>Cheese, caraway</td>\n",
              "      <td>Dairy and Egg Products</td>\n",
              "      <td></td>\n",
              "    </tr>\n",
              "    <tr>\n",
              "      <th>2</th>\n",
              "      <td>Carbohydrate, by difference</td>\n",
              "      <td>Composition</td>\n",
              "      <td>g</td>\n",
              "      <td>3.06</td>\n",
              "      <td>1008</td>\n",
              "      <td>Cheese, caraway</td>\n",
              "      <td>Dairy and Egg Products</td>\n",
              "      <td></td>\n",
              "    </tr>\n",
              "    <tr>\n",
              "      <th>3</th>\n",
              "      <td>Ash</td>\n",
              "      <td>Other</td>\n",
              "      <td>g</td>\n",
              "      <td>3.28</td>\n",
              "      <td>1008</td>\n",
              "      <td>Cheese, caraway</td>\n",
              "      <td>Dairy and Egg Products</td>\n",
              "      <td></td>\n",
              "    </tr>\n",
              "    <tr>\n",
              "      <th>4</th>\n",
              "      <td>Energy</td>\n",
              "      <td>Energy</td>\n",
              "      <td>kcal</td>\n",
              "      <td>376.00</td>\n",
              "      <td>1008</td>\n",
              "      <td>Cheese, caraway</td>\n",
              "      <td>Dairy and Egg Products</td>\n",
              "      <td></td>\n",
              "    </tr>\n",
              "  </tbody>\n",
              "</table>\n",
              "</div>"
            ],
            "text/plain": [
              "                      nutrient     nutgroup units   value    id  \\\n",
              "0                      Protein  Composition     g   25.18  1008   \n",
              "1            Total lipid (fat)  Composition     g   29.20  1008   \n",
              "2  Carbohydrate, by difference  Composition     g    3.06  1008   \n",
              "3                          Ash        Other     g    3.28  1008   \n",
              "4                       Energy       Energy  kcal  376.00  1008   \n",
              "\n",
              "              food                  fgroup manufacturer  \n",
              "0  Cheese, caraway  Dairy and Egg Products               \n",
              "1  Cheese, caraway  Dairy and Egg Products               \n",
              "2  Cheese, caraway  Dairy and Egg Products               \n",
              "3  Cheese, caraway  Dairy and Egg Products               \n",
              "4  Cheese, caraway  Dairy and Egg Products               "
            ]
          },
          "metadata": {
            "tags": []
          },
          "execution_count": 72
        }
      ]
    },
    {
      "metadata": {
        "id": "v8Wi_vhcSovc",
        "colab_type": "code",
        "colab": {}
      },
      "cell_type": "code",
      "source": [
        "max_food = by_nutrient.apply(get_maximum)[['value', 'food']]"
      ],
      "execution_count": 0,
      "outputs": []
    },
    {
      "metadata": {
        "id": "Dk1XyQ4FTSuN",
        "colab_type": "code",
        "colab": {}
      },
      "cell_type": "code",
      "source": [
        "# make the food a little smaller \n",
        "max_food.food = max_food.food.str[:50]"
      ],
      "execution_count": 0,
      "outputs": []
    },
    {
      "metadata": {
        "id": "lN49eAQATh0s",
        "colab_type": "code",
        "colab": {
          "base_uri": "https://localhost:8080/",
          "height": 2000
        },
        "outputId": "2474f971-dde3-43cf-8de1-3096b185dfd9"
      },
      "cell_type": "code",
      "source": [
        "max_food"
      ],
      "execution_count": 75,
      "outputs": [
        {
          "output_type": "execute_result",
          "data": {
            "text/html": [
              "<div>\n",
              "<style scoped>\n",
              "    .dataframe tbody tr th:only-of-type {\n",
              "        vertical-align: middle;\n",
              "    }\n",
              "\n",
              "    .dataframe tbody tr th {\n",
              "        vertical-align: top;\n",
              "    }\n",
              "\n",
              "    .dataframe thead th {\n",
              "        text-align: right;\n",
              "    }\n",
              "</style>\n",
              "<table border=\"1\" class=\"dataframe\">\n",
              "  <thead>\n",
              "    <tr style=\"text-align: right;\">\n",
              "      <th></th>\n",
              "      <th></th>\n",
              "      <th>value</th>\n",
              "      <th>food</th>\n",
              "    </tr>\n",
              "    <tr>\n",
              "      <th>nutgroup</th>\n",
              "      <th>nutrient</th>\n",
              "      <th></th>\n",
              "      <th></th>\n",
              "    </tr>\n",
              "  </thead>\n",
              "  <tbody>\n",
              "    <tr>\n",
              "      <th rowspan=\"19\" valign=\"top\">Amino Acids</th>\n",
              "      <th>Alanine</th>\n",
              "      <td>8.009</td>\n",
              "      <td>Gelatins, dry powder, unsweetened</td>\n",
              "    </tr>\n",
              "    <tr>\n",
              "      <th>Arginine</th>\n",
              "      <td>7.436</td>\n",
              "      <td>Seeds, sesame flour, low-fat</td>\n",
              "    </tr>\n",
              "    <tr>\n",
              "      <th>Aspartic acid</th>\n",
              "      <td>10.203</td>\n",
              "      <td>Soy protein isolate</td>\n",
              "    </tr>\n",
              "    <tr>\n",
              "      <th>Cystine</th>\n",
              "      <td>1.307</td>\n",
              "      <td>Seeds, cottonseed flour, low fat (glandless)</td>\n",
              "    </tr>\n",
              "    <tr>\n",
              "      <th>Glutamic acid</th>\n",
              "      <td>17.452</td>\n",
              "      <td>Soy protein isolate</td>\n",
              "    </tr>\n",
              "    <tr>\n",
              "      <th>Glycine</th>\n",
              "      <td>19.049</td>\n",
              "      <td>Gelatins, dry powder, unsweetened</td>\n",
              "    </tr>\n",
              "    <tr>\n",
              "      <th>Histidine</th>\n",
              "      <td>2.999</td>\n",
              "      <td>Whale, beluga, meat, dried (Alaska Native)</td>\n",
              "    </tr>\n",
              "    <tr>\n",
              "      <th>Hydroxyproline</th>\n",
              "      <td>0.803</td>\n",
              "      <td>KENTUCKY FRIED CHICKEN, Fried Chicken, ORIGINA...</td>\n",
              "    </tr>\n",
              "    <tr>\n",
              "      <th>Isoleucine</th>\n",
              "      <td>4.300</td>\n",
              "      <td>Soy protein isolate, PROTEIN TECHNOLOGIES INTE...</td>\n",
              "    </tr>\n",
              "    <tr>\n",
              "      <th>Leucine</th>\n",
              "      <td>7.200</td>\n",
              "      <td>Soy protein isolate, PROTEIN TECHNOLOGIES INTE...</td>\n",
              "    </tr>\n",
              "    <tr>\n",
              "      <th>Lysine</th>\n",
              "      <td>6.690</td>\n",
              "      <td>Seal, bearded (Oogruk), meat, dried (Alaska Na...</td>\n",
              "    </tr>\n",
              "    <tr>\n",
              "      <th>Methionine</th>\n",
              "      <td>1.859</td>\n",
              "      <td>Fish, cod, Atlantic, dried and salted</td>\n",
              "    </tr>\n",
              "    <tr>\n",
              "      <th>Phenylalanine</th>\n",
              "      <td>4.600</td>\n",
              "      <td>Soy protein isolate, PROTEIN TECHNOLOGIES INTE...</td>\n",
              "    </tr>\n",
              "    <tr>\n",
              "      <th>Proline</th>\n",
              "      <td>12.295</td>\n",
              "      <td>Gelatins, dry powder, unsweetened</td>\n",
              "    </tr>\n",
              "    <tr>\n",
              "      <th>Serine</th>\n",
              "      <td>4.600</td>\n",
              "      <td>Soy protein isolate, PROTEIN TECHNOLOGIES INTE...</td>\n",
              "    </tr>\n",
              "    <tr>\n",
              "      <th>Threonine</th>\n",
              "      <td>3.300</td>\n",
              "      <td>Soy protein isolate, PROTEIN TECHNOLOGIES INTE...</td>\n",
              "    </tr>\n",
              "    <tr>\n",
              "      <th>Tryptophan</th>\n",
              "      <td>1.600</td>\n",
              "      <td>Sea lion, Steller, meat with fat (Alaska Native)</td>\n",
              "    </tr>\n",
              "    <tr>\n",
              "      <th>Tyrosine</th>\n",
              "      <td>3.300</td>\n",
              "      <td>Soy protein isolate, PROTEIN TECHNOLOGIES INTE...</td>\n",
              "    </tr>\n",
              "    <tr>\n",
              "      <th>Valine</th>\n",
              "      <td>4.500</td>\n",
              "      <td>Soy protein isolate, PROTEIN TECHNOLOGIES INTE...</td>\n",
              "    </tr>\n",
              "    <tr>\n",
              "      <th rowspan=\"7\" valign=\"top\">Composition</th>\n",
              "      <th>Adjusted Protein</th>\n",
              "      <td>12.900</td>\n",
              "      <td>Baking chocolate, unsweetened, squares</td>\n",
              "    </tr>\n",
              "    <tr>\n",
              "      <th>Carbohydrate, by difference</th>\n",
              "      <td>100.000</td>\n",
              "      <td>Sweeteners, tabletop, fructose, dry, powder</td>\n",
              "    </tr>\n",
              "    <tr>\n",
              "      <th>Fiber, total dietary</th>\n",
              "      <td>79.000</td>\n",
              "      <td>Corn bran, crude</td>\n",
              "    </tr>\n",
              "    <tr>\n",
              "      <th>Protein</th>\n",
              "      <td>88.320</td>\n",
              "      <td>Soy protein isolate, potassium type, crude pro...</td>\n",
              "    </tr>\n",
              "    <tr>\n",
              "      <th>Sugars, total</th>\n",
              "      <td>99.800</td>\n",
              "      <td>Sugars, granulated</td>\n",
              "    </tr>\n",
              "    <tr>\n",
              "      <th>Total lipid (fat)</th>\n",
              "      <td>100.000</td>\n",
              "      <td>Oil, wheat germ</td>\n",
              "    </tr>\n",
              "    <tr>\n",
              "      <th>Water</th>\n",
              "      <td>100.000</td>\n",
              "      <td>Water, bottled, POLAND SPRING</td>\n",
              "    </tr>\n",
              "    <tr>\n",
              "      <th rowspan=\"4\" valign=\"top\">Elements</th>\n",
              "      <th>Calcium, Ca</th>\n",
              "      <td>7364.000</td>\n",
              "      <td>Leavening agents, baking powder, double-acting...</td>\n",
              "    </tr>\n",
              "    <tr>\n",
              "      <th>Copper, Cu</th>\n",
              "      <td>15.050</td>\n",
              "      <td>Veal, variety meats and by-products, liver, co...</td>\n",
              "    </tr>\n",
              "    <tr>\n",
              "      <th>Fluoride, F</th>\n",
              "      <td>584.000</td>\n",
              "      <td>Tea, instant, sweetened with sugar, lemon-flav...</td>\n",
              "    </tr>\n",
              "    <tr>\n",
              "      <th>Iron, Fe</th>\n",
              "      <td>87.470</td>\n",
              "      <td>Salad dressing, russian dressing, low calorie</td>\n",
              "    </tr>\n",
              "    <tr>\n",
              "      <th>...</th>\n",
              "      <th>...</th>\n",
              "      <td>...</td>\n",
              "      <td>...</td>\n",
              "    </tr>\n",
              "    <tr>\n",
              "      <th rowspan=\"30\" valign=\"top\">Vitamins</th>\n",
              "      <th>Cryptoxanthin, beta</th>\n",
              "      <td>6186.000</td>\n",
              "      <td>Spices, paprika</td>\n",
              "    </tr>\n",
              "    <tr>\n",
              "      <th>Dihydrophylloquinone</th>\n",
              "      <td>103.800</td>\n",
              "      <td>Margarine, 80% fat, stick, includes regular an...</td>\n",
              "    </tr>\n",
              "    <tr>\n",
              "      <th>Folate, DFE</th>\n",
              "      <td>2630.000</td>\n",
              "      <td>Cereals ready-to-eat, QUAKER, CAP'N CRUNCH</td>\n",
              "    </tr>\n",
              "    <tr>\n",
              "      <th>Folate, food</th>\n",
              "      <td>2340.000</td>\n",
              "      <td>Leavening agents, yeast, baker's, active dry</td>\n",
              "    </tr>\n",
              "    <tr>\n",
              "      <th>Folate, total</th>\n",
              "      <td>2340.000</td>\n",
              "      <td>Leavening agents, yeast, baker's, active dry</td>\n",
              "    </tr>\n",
              "    <tr>\n",
              "      <th>Folic acid</th>\n",
              "      <td>1538.000</td>\n",
              "      <td>Cereals ready-to-eat, QUAKER, CAP'N CRUNCH</td>\n",
              "    </tr>\n",
              "    <tr>\n",
              "      <th>Lutein + zeaxanthin</th>\n",
              "      <td>39550.000</td>\n",
              "      <td>Kale, raw</td>\n",
              "    </tr>\n",
              "    <tr>\n",
              "      <th>Lycopene</th>\n",
              "      <td>46260.000</td>\n",
              "      <td>Tomato powder</td>\n",
              "    </tr>\n",
              "    <tr>\n",
              "      <th>Menaquinone-4</th>\n",
              "      <td>33.200</td>\n",
              "      <td>Chicken, broilers or fryers, drumstick, meat a...</td>\n",
              "    </tr>\n",
              "    <tr>\n",
              "      <th>Niacin</th>\n",
              "      <td>97.000</td>\n",
              "      <td>Yeast extract spread</td>\n",
              "    </tr>\n",
              "    <tr>\n",
              "      <th>Pantothenic acid</th>\n",
              "      <td>35.000</td>\n",
              "      <td>Cereals ready-to-eat, KELLOGG, KELLOGG'S Compl...</td>\n",
              "    </tr>\n",
              "    <tr>\n",
              "      <th>Retinol</th>\n",
              "      <td>30000.000</td>\n",
              "      <td>Fish oil, cod liver</td>\n",
              "    </tr>\n",
              "    <tr>\n",
              "      <th>Riboflavin</th>\n",
              "      <td>14.300</td>\n",
              "      <td>Yeast extract spread</td>\n",
              "    </tr>\n",
              "    <tr>\n",
              "      <th>Thiamin</th>\n",
              "      <td>20.000</td>\n",
              "      <td>MORNINGSTAR FARMS Hot and Spicy Veggie Sausage...</td>\n",
              "    </tr>\n",
              "    <tr>\n",
              "      <th>Tocopherol, beta</th>\n",
              "      <td>6.490</td>\n",
              "      <td>Yellow pond lily, Wocas, dried seeds (Pacific ...</td>\n",
              "    </tr>\n",
              "    <tr>\n",
              "      <th>Tocopherol, delta</th>\n",
              "      <td>30.880</td>\n",
              "      <td>Oil, cooking and salad, ENOVA, 80% diglycerides</td>\n",
              "    </tr>\n",
              "    <tr>\n",
              "      <th>Tocopherol, gamma</th>\n",
              "      <td>100.880</td>\n",
              "      <td>Oil, cooking and salad, ENOVA, 80% diglycerides</td>\n",
              "    </tr>\n",
              "    <tr>\n",
              "      <th>Vitamin A, IU</th>\n",
              "      <td>100000.000</td>\n",
              "      <td>Fish oil, cod liver</td>\n",
              "    </tr>\n",
              "    <tr>\n",
              "      <th>Vitamin A, RAE</th>\n",
              "      <td>30000.000</td>\n",
              "      <td>Fish oil, cod liver</td>\n",
              "    </tr>\n",
              "    <tr>\n",
              "      <th>Vitamin B-12</th>\n",
              "      <td>98.890</td>\n",
              "      <td>Mollusks, clam, mixed species, cooked, moist heat</td>\n",
              "    </tr>\n",
              "    <tr>\n",
              "      <th>Vitamin B-12, added</th>\n",
              "      <td>24.000</td>\n",
              "      <td>Cereals ready-to-eat, KELLOGG, KELLOGG'S ALL-B...</td>\n",
              "    </tr>\n",
              "    <tr>\n",
              "      <th>Vitamin B-6</th>\n",
              "      <td>12.000</td>\n",
              "      <td>Cereals ready-to-eat, KELLOGG, KELLOGG'S ALL-B...</td>\n",
              "    </tr>\n",
              "    <tr>\n",
              "      <th>Vitamin C, total ascorbic acid</th>\n",
              "      <td>2400.000</td>\n",
              "      <td>Orange-flavor drink, breakfast type, low calor...</td>\n",
              "    </tr>\n",
              "    <tr>\n",
              "      <th>Vitamin D</th>\n",
              "      <td>10000.000</td>\n",
              "      <td>Fish oil, cod liver</td>\n",
              "    </tr>\n",
              "    <tr>\n",
              "      <th>Vitamin D (D2 + D3)</th>\n",
              "      <td>250.000</td>\n",
              "      <td>Fish oil, cod liver</td>\n",
              "    </tr>\n",
              "    <tr>\n",
              "      <th>Vitamin D2 (ergocalciferol)</th>\n",
              "      <td>28.100</td>\n",
              "      <td>Mushrooms, maitake, raw</td>\n",
              "    </tr>\n",
              "    <tr>\n",
              "      <th>Vitamin D3 (cholecalciferol)</th>\n",
              "      <td>27.400</td>\n",
              "      <td>Fish, halibut, Greenland, raw</td>\n",
              "    </tr>\n",
              "    <tr>\n",
              "      <th>Vitamin E (alpha-tocopherol)</th>\n",
              "      <td>149.400</td>\n",
              "      <td>Oil, wheat germ</td>\n",
              "    </tr>\n",
              "    <tr>\n",
              "      <th>Vitamin E, added</th>\n",
              "      <td>46.550</td>\n",
              "      <td>Cereals ready-to-eat, GENERAL MILLS, Multi-Gra...</td>\n",
              "    </tr>\n",
              "    <tr>\n",
              "      <th>Vitamin K (phylloquinone)</th>\n",
              "      <td>1714.500</td>\n",
              "      <td>Spices, sage, ground</td>\n",
              "    </tr>\n",
              "  </tbody>\n",
              "</table>\n",
              "<p>94 rows × 2 columns</p>\n",
              "</div>"
            ],
            "text/plain": [
              "                                                 value  \\\n",
              "nutgroup    nutrient                                     \n",
              "Amino Acids Alanine                              8.009   \n",
              "            Arginine                             7.436   \n",
              "            Aspartic acid                       10.203   \n",
              "            Cystine                              1.307   \n",
              "            Glutamic acid                       17.452   \n",
              "            Glycine                             19.049   \n",
              "            Histidine                            2.999   \n",
              "            Hydroxyproline                       0.803   \n",
              "            Isoleucine                           4.300   \n",
              "            Leucine                              7.200   \n",
              "            Lysine                               6.690   \n",
              "            Methionine                           1.859   \n",
              "            Phenylalanine                        4.600   \n",
              "            Proline                             12.295   \n",
              "            Serine                               4.600   \n",
              "            Threonine                            3.300   \n",
              "            Tryptophan                           1.600   \n",
              "            Tyrosine                             3.300   \n",
              "            Valine                               4.500   \n",
              "Composition Adjusted Protein                    12.900   \n",
              "            Carbohydrate, by difference        100.000   \n",
              "            Fiber, total dietary                79.000   \n",
              "            Protein                             88.320   \n",
              "            Sugars, total                       99.800   \n",
              "            Total lipid (fat)                  100.000   \n",
              "            Water                              100.000   \n",
              "Elements    Calcium, Ca                       7364.000   \n",
              "            Copper, Cu                          15.050   \n",
              "            Fluoride, F                        584.000   \n",
              "            Iron, Fe                            87.470   \n",
              "...                                                ...   \n",
              "Vitamins    Cryptoxanthin, beta               6186.000   \n",
              "            Dihydrophylloquinone               103.800   \n",
              "            Folate, DFE                       2630.000   \n",
              "            Folate, food                      2340.000   \n",
              "            Folate, total                     2340.000   \n",
              "            Folic acid                        1538.000   \n",
              "            Lutein + zeaxanthin              39550.000   \n",
              "            Lycopene                         46260.000   \n",
              "            Menaquinone-4                       33.200   \n",
              "            Niacin                              97.000   \n",
              "            Pantothenic acid                    35.000   \n",
              "            Retinol                          30000.000   \n",
              "            Riboflavin                          14.300   \n",
              "            Thiamin                             20.000   \n",
              "            Tocopherol, beta                     6.490   \n",
              "            Tocopherol, delta                   30.880   \n",
              "            Tocopherol, gamma                  100.880   \n",
              "            Vitamin A, IU                   100000.000   \n",
              "            Vitamin A, RAE                   30000.000   \n",
              "            Vitamin B-12                        98.890   \n",
              "            Vitamin B-12, added                 24.000   \n",
              "            Vitamin B-6                         12.000   \n",
              "            Vitamin C, total ascorbic acid    2400.000   \n",
              "            Vitamin D                        10000.000   \n",
              "            Vitamin D (D2 + D3)                250.000   \n",
              "            Vitamin D2 (ergocalciferol)         28.100   \n",
              "            Vitamin D3 (cholecalciferol)        27.400   \n",
              "            Vitamin E (alpha-tocopherol)       149.400   \n",
              "            Vitamin E, added                    46.550   \n",
              "            Vitamin K (phylloquinone)         1714.500   \n",
              "\n",
              "                                                                                         food  \n",
              "nutgroup    nutrient                                                                           \n",
              "Amino Acids Alanine                                         Gelatins, dry powder, unsweetened  \n",
              "            Arginine                                             Seeds, sesame flour, low-fat  \n",
              "            Aspartic acid                                                 Soy protein isolate  \n",
              "            Cystine                              Seeds, cottonseed flour, low fat (glandless)  \n",
              "            Glutamic acid                                                 Soy protein isolate  \n",
              "            Glycine                                         Gelatins, dry powder, unsweetened  \n",
              "            Histidine                              Whale, beluga, meat, dried (Alaska Native)  \n",
              "            Hydroxyproline                  KENTUCKY FRIED CHICKEN, Fried Chicken, ORIGINA...  \n",
              "            Isoleucine                      Soy protein isolate, PROTEIN TECHNOLOGIES INTE...  \n",
              "            Leucine                         Soy protein isolate, PROTEIN TECHNOLOGIES INTE...  \n",
              "            Lysine                          Seal, bearded (Oogruk), meat, dried (Alaska Na...  \n",
              "            Methionine                                  Fish, cod, Atlantic, dried and salted  \n",
              "            Phenylalanine                   Soy protein isolate, PROTEIN TECHNOLOGIES INTE...  \n",
              "            Proline                                         Gelatins, dry powder, unsweetened  \n",
              "            Serine                          Soy protein isolate, PROTEIN TECHNOLOGIES INTE...  \n",
              "            Threonine                       Soy protein isolate, PROTEIN TECHNOLOGIES INTE...  \n",
              "            Tryptophan                       Sea lion, Steller, meat with fat (Alaska Native)  \n",
              "            Tyrosine                        Soy protein isolate, PROTEIN TECHNOLOGIES INTE...  \n",
              "            Valine                          Soy protein isolate, PROTEIN TECHNOLOGIES INTE...  \n",
              "Composition Adjusted Protein                           Baking chocolate, unsweetened, squares  \n",
              "            Carbohydrate, by difference           Sweeteners, tabletop, fructose, dry, powder  \n",
              "            Fiber, total dietary                                             Corn bran, crude  \n",
              "            Protein                         Soy protein isolate, potassium type, crude pro...  \n",
              "            Sugars, total                                                  Sugars, granulated  \n",
              "            Total lipid (fat)                                                 Oil, wheat germ  \n",
              "            Water                                               Water, bottled, POLAND SPRING  \n",
              "Elements    Calcium, Ca                     Leavening agents, baking powder, double-acting...  \n",
              "            Copper, Cu                      Veal, variety meats and by-products, liver, co...  \n",
              "            Fluoride, F                     Tea, instant, sweetened with sugar, lemon-flav...  \n",
              "            Iron, Fe                            Salad dressing, russian dressing, low calorie  \n",
              "...                                                                                       ...  \n",
              "Vitamins    Cryptoxanthin, beta                                               Spices, paprika  \n",
              "            Dihydrophylloquinone            Margarine, 80% fat, stick, includes regular an...  \n",
              "            Folate, DFE                            Cereals ready-to-eat, QUAKER, CAP'N CRUNCH  \n",
              "            Folate, food                         Leavening agents, yeast, baker's, active dry  \n",
              "            Folate, total                        Leavening agents, yeast, baker's, active dry  \n",
              "            Folic acid                             Cereals ready-to-eat, QUAKER, CAP'N CRUNCH  \n",
              "            Lutein + zeaxanthin                                                     Kale, raw  \n",
              "            Lycopene                                                            Tomato powder  \n",
              "            Menaquinone-4                   Chicken, broilers or fryers, drumstick, meat a...  \n",
              "            Niacin                                                       Yeast extract spread  \n",
              "            Pantothenic acid                Cereals ready-to-eat, KELLOGG, KELLOGG'S Compl...  \n",
              "            Retinol                                                       Fish oil, cod liver  \n",
              "            Riboflavin                                                   Yeast extract spread  \n",
              "            Thiamin                         MORNINGSTAR FARMS Hot and Spicy Veggie Sausage...  \n",
              "            Tocopherol, beta                Yellow pond lily, Wocas, dried seeds (Pacific ...  \n",
              "            Tocopherol, delta                 Oil, cooking and salad, ENOVA, 80% diglycerides  \n",
              "            Tocopherol, gamma                 Oil, cooking and salad, ENOVA, 80% diglycerides  \n",
              "            Vitamin A, IU                                                 Fish oil, cod liver  \n",
              "            Vitamin A, RAE                                                Fish oil, cod liver  \n",
              "            Vitamin B-12                    Mollusks, clam, mixed species, cooked, moist heat  \n",
              "            Vitamin B-12, added             Cereals ready-to-eat, KELLOGG, KELLOGG'S ALL-B...  \n",
              "            Vitamin B-6                     Cereals ready-to-eat, KELLOGG, KELLOGG'S ALL-B...  \n",
              "            Vitamin C, total ascorbic acid  Orange-flavor drink, breakfast type, low calor...  \n",
              "            Vitamin D                                                     Fish oil, cod liver  \n",
              "            Vitamin D (D2 + D3)                                           Fish oil, cod liver  \n",
              "            Vitamin D2 (ergocalciferol)                               Mushrooms, maitake, raw  \n",
              "            Vitamin D3 (cholecalciferol)                        Fish, halibut, Greenland, raw  \n",
              "            Vitamin E (alpha-tocopherol)                                      Oil, wheat germ  \n",
              "            Vitamin E, added                Cereals ready-to-eat, GENERAL MILLS, Multi-Gra...  \n",
              "            Vitamin K (phylloquinone)                                    Spices, sage, ground  \n",
              "\n",
              "[94 rows x 2 columns]"
            ]
          },
          "metadata": {
            "tags": []
          },
          "execution_count": 75
        }
      ]
    },
    {
      "metadata": {
        "id": "b2Q63FcYTjLG",
        "colab_type": "code",
        "colab": {
          "base_uri": "https://localhost:8080/",
          "height": 395
        },
        "outputId": "fc0b13c2-53b5-4feb-c83b-244dbe72575c"
      },
      "cell_type": "code",
      "source": [
        "max_food.loc['Amino Acids']['food']"
      ],
      "execution_count": 76,
      "outputs": [
        {
          "output_type": "execute_result",
          "data": {
            "text/plain": [
              "nutrient\n",
              "Alanine                           Gelatins, dry powder, unsweetened\n",
              "Arginine                               Seeds, sesame flour, low-fat\n",
              "Aspartic acid                                   Soy protein isolate\n",
              "Cystine                Seeds, cottonseed flour, low fat (glandless)\n",
              "Glutamic acid                                   Soy protein isolate\n",
              "Glycine                           Gelatins, dry powder, unsweetened\n",
              "Histidine                Whale, beluga, meat, dried (Alaska Native)\n",
              "Hydroxyproline    KENTUCKY FRIED CHICKEN, Fried Chicken, ORIGINA...\n",
              "Isoleucine        Soy protein isolate, PROTEIN TECHNOLOGIES INTE...\n",
              "Leucine           Soy protein isolate, PROTEIN TECHNOLOGIES INTE...\n",
              "Lysine            Seal, bearded (Oogruk), meat, dried (Alaska Na...\n",
              "Methionine                    Fish, cod, Atlantic, dried and salted\n",
              "Phenylalanine     Soy protein isolate, PROTEIN TECHNOLOGIES INTE...\n",
              "Proline                           Gelatins, dry powder, unsweetened\n",
              "Serine            Soy protein isolate, PROTEIN TECHNOLOGIES INTE...\n",
              "Threonine         Soy protein isolate, PROTEIN TECHNOLOGIES INTE...\n",
              "Tryptophan         Sea lion, Steller, meat with fat (Alaska Native)\n",
              "Tyrosine          Soy protein isolate, PROTEIN TECHNOLOGIES INTE...\n",
              "Valine            Soy protein isolate, PROTEIN TECHNOLOGIES INTE...\n",
              "Name: food, dtype: object"
            ]
          },
          "metadata": {
            "tags": []
          },
          "execution_count": 76
        }
      ]
    },
    {
      "metadata": {
        "id": "xXkVYy3KT2Sb",
        "colab_type": "text"
      },
      "cell_type": "markdown",
      "source": [
        "2019.05.01, 여기까지 하면, 전반적으로 분석을 위한 데이터 준비 작업을 살펴보기를 끝냄. \n",
        "\n",
        "다음장부터는 분석에 반드시 필요한 visualization에 대해서 살펴보도록 함. "
      ]
    },
    {
      "metadata": {
        "id": "INusFCYHTvsE",
        "colab_type": "code",
        "colab": {}
      },
      "cell_type": "code",
      "source": [
        ""
      ],
      "execution_count": 0,
      "outputs": []
    }
  ]
}