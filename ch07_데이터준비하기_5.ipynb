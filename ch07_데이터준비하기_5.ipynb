{
  "nbformat": 4,
  "nbformat_minor": 0,
  "metadata": {
    "colab": {
      "name": "ch07_데이터준비하기_5.ipynb",
      "version": "0.3.2",
      "provenance": [],
      "include_colab_link": true
    },
    "kernelspec": {
      "name": "python3",
      "display_name": "Python 3"
    }
  },
  "cells": [
    {
      "cell_type": "markdown",
      "metadata": {
        "id": "view-in-github",
        "colab_type": "text"
      },
      "source": [
        "<a href=\"https://colab.research.google.com/github/xuhu357/DataAnalysis/blob/master/ch07_%EB%8D%B0%EC%9D%B4%ED%84%B0%EC%A4%80%EB%B9%84%ED%95%98%EA%B8%B0_5.ipynb\" target=\"_parent\"><img src=\"https://colab.research.google.com/assets/colab-badge.svg\" alt=\"Open In Colab\"/></a>"
      ]
    },
    {
      "metadata": {
        "id": "zHU0shVfFWGc",
        "colab_type": "text"
      },
      "cell_type": "markdown",
      "source": [
        "### 개별화와 양자화\n",
        "\n",
        "연속성 데이터는 종종 개별로 분할하거나, 분석을 위해 그룹별로 나누기도 함.\n",
        "\n",
        "수업에 참여하는 학생 데이터가 있고, 나이대에 따라 분류한다고 가정"
      ]
    },
    {
      "metadata": {
        "id": "ygHSPel_FPVB",
        "colab_type": "code",
        "colab": {}
      },
      "cell_type": "code",
      "source": [
        "import pandas as pd\n",
        "import numpy as np"
      ],
      "execution_count": 0,
      "outputs": []
    },
    {
      "metadata": {
        "id": "JP426KJLFvyg",
        "colab_type": "code",
        "colab": {}
      },
      "cell_type": "code",
      "source": [
        "ages = [20, 22, 25, 27, 21, 23, 37, 31, 61, 45, 41, 32]"
      ],
      "execution_count": 0,
      "outputs": []
    },
    {
      "metadata": {
        "id": "6Nq3iUmGF5kY",
        "colab_type": "text"
      },
      "cell_type": "markdown",
      "source": [
        "### 하고 싶은 것:\n",
        "* 18-25, 26-35, 36-60, 60 이상으로 나누어 보기."
      ]
    },
    {
      "metadata": {
        "id": "pjb4y-LoGKsL",
        "colab_type": "text"
      },
      "cell_type": "markdown",
      "source": [
        "#### 실습"
      ]
    },
    {
      "metadata": {
        "id": "kl0er-ynF3cD",
        "colab_type": "code",
        "colab": {}
      },
      "cell_type": "code",
      "source": [
        "bins = [18, 25, 35, 60, 100]\n",
        "\n",
        "cats = pd.cut(ages, bins)"
      ],
      "execution_count": 0,
      "outputs": []
    },
    {
      "metadata": {
        "id": "73gjw4OhGURj",
        "colab_type": "code",
        "colab": {
          "base_uri": "https://localhost:8080/",
          "height": 71
        },
        "outputId": "5368bb48-e557-472e-81fd-b8a628a24b9e"
      },
      "cell_type": "code",
      "source": [
        "cats"
      ],
      "execution_count": 4,
      "outputs": [
        {
          "output_type": "execute_result",
          "data": {
            "text/plain": [
              "[(18, 25], (18, 25], (18, 25], (25, 35], (18, 25], ..., (25, 35], (60, 100], (35, 60], (35, 60], (25, 35]]\n",
              "Length: 12\n",
              "Categories (4, interval[int64]): [(18, 25] < (25, 35] < (35, 60] < (60, 100]]"
            ]
          },
          "metadata": {
            "tags": []
          },
          "execution_count": 4
        }
      ]
    },
    {
      "metadata": {
        "id": "TIs_7XPNG4Ey",
        "colab_type": "text"
      },
      "cell_type": "markdown",
      "source": [
        "pandas에서 반환하는 객체는 Categorical 객체라고 하는 특수한 객체인데,\n",
        "\n",
        "이 객체는 그룹이름이 담긴 배열이라고 생각하면 된다.\n",
        "\n",
        "Categorical 객체는 codes속성에 있는 ages 데이터에 대한 카테고리 이름을 categories라는 배열에 내부적으로 잠고 있다. "
      ]
    },
    {
      "metadata": {
        "id": "bp9rVakEGVtL",
        "colab_type": "code",
        "colab": {
          "base_uri": "https://localhost:8080/",
          "height": 35
        },
        "outputId": "e3d86f37-771f-4962-eb27-2696acf67671"
      },
      "cell_type": "code",
      "source": [
        "cats.codes"
      ],
      "execution_count": 5,
      "outputs": [
        {
          "output_type": "execute_result",
          "data": {
            "text/plain": [
              "array([0, 0, 0, 1, 0, 0, 2, 1, 3, 2, 2, 1], dtype=int8)"
            ]
          },
          "metadata": {
            "tags": []
          },
          "execution_count": 5
        }
      ]
    },
    {
      "metadata": {
        "id": "t_B1Va2lHREr",
        "colab_type": "code",
        "colab": {
          "base_uri": "https://localhost:8080/",
          "height": 71
        },
        "outputId": "d49c7170-14b3-4e1a-9dfa-561d93da3308"
      },
      "cell_type": "code",
      "source": [
        "cats.categories"
      ],
      "execution_count": 6,
      "outputs": [
        {
          "output_type": "execute_result",
          "data": {
            "text/plain": [
              "IntervalIndex([(18, 25], (25, 35], (35, 60], (60, 100]]\n",
              "              closed='right',\n",
              "              dtype='interval[int64]')"
            ]
          },
          "metadata": {
            "tags": []
          },
          "execution_count": 6
        }
      ]
    },
    {
      "metadata": {
        "id": "Ql4Ib183HTA-",
        "colab_type": "code",
        "colab": {
          "base_uri": "https://localhost:8080/",
          "height": 107
        },
        "outputId": "1d7e30e0-451a-4aad-edad-afcaf77673bc"
      },
      "cell_type": "code",
      "source": [
        "pd.value_counts(cats)"
      ],
      "execution_count": 7,
      "outputs": [
        {
          "output_type": "execute_result",
          "data": {
            "text/plain": [
              "(18, 25]     5\n",
              "(35, 60]     3\n",
              "(25, 35]     3\n",
              "(60, 100]    1\n",
              "dtype: int64"
            ]
          },
          "metadata": {
            "tags": []
          },
          "execution_count": 7
        }
      ]
    },
    {
      "metadata": {
        "id": "Qebi1VAeHd8X",
        "colab_type": "text"
      },
      "cell_type": "markdown",
      "source": [
        "보다싶이 괄호로 시작해서 대괄호로 끝나는것은 왼쪽부분은 미포함, 오른쪽은 포함이라는 뜻, \n",
        "why, closed= right 이기 때문에.\n",
        "\n",
        "위치를 바꾸고 싶다면, \n",
        "right =False를 넘기면 끝."
      ]
    },
    {
      "metadata": {
        "id": "VIdoY9ZJHX11",
        "colab_type": "code",
        "colab": {
          "base_uri": "https://localhost:8080/",
          "height": 71
        },
        "outputId": "cc3761ae-31a9-4b91-c316-40f979b7e4be"
      },
      "cell_type": "code",
      "source": [
        "pd.cut(ages, bins, right=False)"
      ],
      "execution_count": 8,
      "outputs": [
        {
          "output_type": "execute_result",
          "data": {
            "text/plain": [
              "[[18, 25), [18, 25), [25, 35), [25, 35), [18, 25), ..., [25, 35), [60, 100), [35, 60), [35, 60), [25, 35)]\n",
              "Length: 12\n",
              "Categories (4, interval[int64]): [[18, 25) < [25, 35) < [35, 60) < [60, 100)]"
            ]
          },
          "metadata": {
            "tags": []
          },
          "execution_count": 8
        }
      ]
    },
    {
      "metadata": {
        "id": "hMXmTeeiH12j",
        "colab_type": "text"
      },
      "cell_type": "markdown",
      "source": [
        "### 나누어진 그룹에게 이름을 주고 싶다면, 어떻게 할까?"
      ]
    },
    {
      "metadata": {
        "id": "eQJ5qYBIIPbH",
        "colab_type": "text"
      },
      "cell_type": "markdown",
      "source": [
        "#### 실습"
      ]
    },
    {
      "metadata": {
        "id": "zGomBj3NHzlF",
        "colab_type": "code",
        "colab": {
          "base_uri": "https://localhost:8080/",
          "height": 71
        },
        "outputId": "ff4528fd-ca1b-4f65-fff9-f2cda94593cb"
      },
      "cell_type": "code",
      "source": [
        "group_names = ['Youth', 'YouthAdult', 'MiddleAged', 'Senior']\n",
        "\n",
        "pd.cut(ages, bins, labels=group_names)"
      ],
      "execution_count": 9,
      "outputs": [
        {
          "output_type": "execute_result",
          "data": {
            "text/plain": [
              "[Youth, Youth, Youth, YouthAdult, Youth, ..., YouthAdult, Senior, MiddleAged, MiddleAged, YouthAdult]\n",
              "Length: 12\n",
              "Categories (4, object): [Youth < YouthAdult < MiddleAged < Senior]"
            ]
          },
          "metadata": {
            "tags": []
          },
          "execution_count": 9
        }
      ]
    },
    {
      "metadata": {
        "id": "iT7-E12AIc_k",
        "colab_type": "text"
      },
      "cell_type": "markdown",
      "source": [
        "만약, cut 함수에 명시적으로 경계값을 주지 않고 그룹의 개수를 넘겨주면, 데이터에서 최소값과 최대값을 기준으로 균등한 길이의 그룹을 자동으로 계산한다. "
      ]
    },
    {
      "metadata": {
        "id": "nwH2GWpPIXa8",
        "colab_type": "code",
        "colab": {
          "base_uri": "https://localhost:8080/",
          "height": 71
        },
        "outputId": "fc830b5d-a56f-4c1d-8fe7-8ce480196106"
      },
      "cell_type": "code",
      "source": [
        "# 실습\n",
        "\n",
        "data = np.random.rand(20)\n",
        "\n",
        "pd.cut(data, 4, precision=2)"
      ],
      "execution_count": 10,
      "outputs": [
        {
          "output_type": "execute_result",
          "data": {
            "text/plain": [
              "[(0.47, 0.69], (0.69, 0.91], (0.69, 0.91], (0.69, 0.91], (0.24, 0.47], ..., (0.24, 0.47], (0.02, 0.24], (0.02, 0.24], (0.69, 0.91], (0.69, 0.91]]\n",
              "Length: 20\n",
              "Categories (4, interval[float64]): [(0.02, 0.24] < (0.24, 0.47] < (0.47, 0.69] < (0.69, 0.91]]"
            ]
          },
          "metadata": {
            "tags": []
          },
          "execution_count": 10
        }
      ]
    },
    {
      "metadata": {
        "id": "45gD7iORI9lT",
        "colab_type": "text"
      },
      "cell_type": "markdown",
      "source": [
        "이를 위한 가장 적합한 함수로, qcut가 있다. \n",
        "\n",
        "이는 표본 변위치를 기반으로 데이터를 나눠준다.\n",
        "\n",
        "cut함수를 사용하게 되면, 데이터의 분산에 따라 각각의 그룹마다 데이터의 개수가 다르게 나누어지는 경우가 많다. \n",
        "\n",
        "qcut은 표준 변위치를 사용하기 때문에 적당히 같은 크기의 그룹으로 나눌 수 있다. "
      ]
    },
    {
      "metadata": {
        "id": "HXXIlczPI1B0",
        "colab_type": "code",
        "colab": {
          "base_uri": "https://localhost:8080/",
          "height": 107
        },
        "outputId": "64dabe02-396d-48e6-ac4d-d86d510f6a8b"
      },
      "cell_type": "code",
      "source": [
        "temp_cats = pd.cut(data, 4, precision=2)\n",
        "\n",
        "pd.value_counts(temp_cats)"
      ],
      "execution_count": 11,
      "outputs": [
        {
          "output_type": "execute_result",
          "data": {
            "text/plain": [
              "(0.69, 0.91]    7\n",
              "(0.24, 0.47]    5\n",
              "(0.02, 0.24]    5\n",
              "(0.47, 0.69]    3\n",
              "dtype: int64"
            ]
          },
          "metadata": {
            "tags": []
          },
          "execution_count": 11
        }
      ]
    },
    {
      "metadata": {
        "id": "6a5t3MvaJigs",
        "colab_type": "code",
        "colab": {
          "base_uri": "https://localhost:8080/",
          "height": 107
        },
        "outputId": "4c98cc9e-41ba-4b06-e687-8fed1c2d2801"
      },
      "cell_type": "code",
      "source": [
        "qcut_cats = pd.qcut(data, 4)\n",
        "\n",
        "pd.value_counts(qcut_cats) # cut into quartiles."
      ],
      "execution_count": 12,
      "outputs": [
        {
          "output_type": "execute_result",
          "data": {
            "text/plain": [
              "(0.771, 0.911]     5\n",
              "(0.492, 0.771]     5\n",
              "(0.269, 0.492]     5\n",
              "(0.0194, 0.269]    5\n",
              "dtype: int64"
            ]
          },
          "metadata": {
            "tags": []
          },
          "execution_count": 12
        }
      ]
    },
    {
      "metadata": {
        "id": "0oGuUi_wKkIO",
        "colab_type": "text"
      },
      "cell_type": "markdown",
      "source": [
        "cut함수와 유사하게 변위치를 직접 지정해줄 수 있다. 변위치 값은 0부터 1까지."
      ]
    },
    {
      "metadata": {
        "id": "8OTh4kMOJvDT",
        "colab_type": "code",
        "colab": {
          "base_uri": "https://localhost:8080/",
          "height": 107
        },
        "outputId": "951e494c-9086-4a84-81f4-5fe4ef973dab"
      },
      "cell_type": "code",
      "source": [
        "qcut_cats2 = pd.qcut(data, [0, 0.1, 0.5, 0.9, 1])\n",
        "\n",
        "pd.value_counts(qcut_cats2)"
      ],
      "execution_count": 13,
      "outputs": [
        {
          "output_type": "execute_result",
          "data": {
            "text/plain": [
              "(0.492, 0.783]     8\n",
              "(0.167, 0.492]     8\n",
              "(0.783, 0.911]     2\n",
              "(0.0194, 0.167]    2\n",
              "dtype: int64"
            ]
          },
          "metadata": {
            "tags": []
          },
          "execution_count": 13
        }
      ]
    },
    {
      "metadata": {
        "id": "XulAPJ4nK5rM",
        "colab_type": "code",
        "colab": {
          "base_uri": "https://localhost:8080/",
          "height": 71
        },
        "outputId": "3e7acbaf-659b-43db-9119-c374f4803612"
      },
      "cell_type": "code",
      "source": [
        "qcut_cats2"
      ],
      "execution_count": 14,
      "outputs": [
        {
          "output_type": "execute_result",
          "data": {
            "text/plain": [
              "[(0.492, 0.783], (0.783, 0.911], (0.492, 0.783], (0.492, 0.783], (0.167, 0.492], ..., (0.167, 0.492], (0.0194, 0.167], (0.167, 0.492], (0.492, 0.783], (0.492, 0.783]]\n",
              "Length: 20\n",
              "Categories (4, interval[float64]): [(0.0194, 0.167] < (0.167, 0.492] < (0.492, 0.783] < (0.783, 0.911]]"
            ]
          },
          "metadata": {
            "tags": []
          },
          "execution_count": 14
        }
      ]
    },
    {
      "metadata": {
        "id": "PaZRrbCALP2G",
        "colab_type": "text"
      },
      "cell_type": "markdown",
      "source": [
        "그룹 분석과 변위치를 다룰때는 cut과 qcutㅎ마수 같은 이산함수가 특히 유용.\n",
        "\n",
        "이 내용은 수집과 그룹연산에 대한 chapter에서 더 자세히 보자."
      ]
    },
    {
      "metadata": {
        "id": "fKN9-v65LeWn",
        "colab_type": "text"
      },
      "cell_type": "markdown",
      "source": [
        "### 특이값 찾아내고 제외하기.\n",
        "\n",
        "\n",
        "배열 연산을 수행할 때는 특이값 outlier를 제외하거나 적당한 값으로 대체하는 것이 중요하다. \n"
      ]
    },
    {
      "metadata": {
        "id": "AXy3Du4BLB0-",
        "colab_type": "code",
        "colab": {}
      },
      "cell_type": "code",
      "source": [
        "np.random.seed(12345)\n",
        "\n",
        "data = pd.DataFrame(np.random.randn(1000, 4))"
      ],
      "execution_count": 0,
      "outputs": []
    },
    {
      "metadata": {
        "id": "lYtMKNOzL1mM",
        "colab_type": "code",
        "colab": {
          "base_uri": "https://localhost:8080/",
          "height": 297
        },
        "outputId": "2173a297-1e42-43a6-dfd3-3b5f61f0f815"
      },
      "cell_type": "code",
      "source": [
        "data.describe()"
      ],
      "execution_count": 16,
      "outputs": [
        {
          "output_type": "execute_result",
          "data": {
            "text/html": [
              "<div>\n",
              "<style scoped>\n",
              "    .dataframe tbody tr th:only-of-type {\n",
              "        vertical-align: middle;\n",
              "    }\n",
              "\n",
              "    .dataframe tbody tr th {\n",
              "        vertical-align: top;\n",
              "    }\n",
              "\n",
              "    .dataframe thead th {\n",
              "        text-align: right;\n",
              "    }\n",
              "</style>\n",
              "<table border=\"1\" class=\"dataframe\">\n",
              "  <thead>\n",
              "    <tr style=\"text-align: right;\">\n",
              "      <th></th>\n",
              "      <th>0</th>\n",
              "      <th>1</th>\n",
              "      <th>2</th>\n",
              "      <th>3</th>\n",
              "    </tr>\n",
              "  </thead>\n",
              "  <tbody>\n",
              "    <tr>\n",
              "      <th>count</th>\n",
              "      <td>1000.000000</td>\n",
              "      <td>1000.000000</td>\n",
              "      <td>1000.000000</td>\n",
              "      <td>1000.000000</td>\n",
              "    </tr>\n",
              "    <tr>\n",
              "      <th>mean</th>\n",
              "      <td>-0.067684</td>\n",
              "      <td>0.067924</td>\n",
              "      <td>0.025598</td>\n",
              "      <td>-0.002298</td>\n",
              "    </tr>\n",
              "    <tr>\n",
              "      <th>std</th>\n",
              "      <td>0.998035</td>\n",
              "      <td>0.992106</td>\n",
              "      <td>1.006835</td>\n",
              "      <td>0.996794</td>\n",
              "    </tr>\n",
              "    <tr>\n",
              "      <th>min</th>\n",
              "      <td>-3.428254</td>\n",
              "      <td>-3.548824</td>\n",
              "      <td>-3.184377</td>\n",
              "      <td>-3.745356</td>\n",
              "    </tr>\n",
              "    <tr>\n",
              "      <th>25%</th>\n",
              "      <td>-0.774890</td>\n",
              "      <td>-0.591841</td>\n",
              "      <td>-0.641675</td>\n",
              "      <td>-0.644144</td>\n",
              "    </tr>\n",
              "    <tr>\n",
              "      <th>50%</th>\n",
              "      <td>-0.116401</td>\n",
              "      <td>0.101143</td>\n",
              "      <td>0.002073</td>\n",
              "      <td>-0.013611</td>\n",
              "    </tr>\n",
              "    <tr>\n",
              "      <th>75%</th>\n",
              "      <td>0.616366</td>\n",
              "      <td>0.780282</td>\n",
              "      <td>0.680391</td>\n",
              "      <td>0.654328</td>\n",
              "    </tr>\n",
              "    <tr>\n",
              "      <th>max</th>\n",
              "      <td>3.366626</td>\n",
              "      <td>2.653656</td>\n",
              "      <td>3.260383</td>\n",
              "      <td>3.927528</td>\n",
              "    </tr>\n",
              "  </tbody>\n",
              "</table>\n",
              "</div>"
            ],
            "text/plain": [
              "                 0            1            2            3\n",
              "count  1000.000000  1000.000000  1000.000000  1000.000000\n",
              "mean     -0.067684     0.067924     0.025598    -0.002298\n",
              "std       0.998035     0.992106     1.006835     0.996794\n",
              "min      -3.428254    -3.548824    -3.184377    -3.745356\n",
              "25%      -0.774890    -0.591841    -0.641675    -0.644144\n",
              "50%      -0.116401     0.101143     0.002073    -0.013611\n",
              "75%       0.616366     0.780282     0.680391     0.654328\n",
              "max       3.366626     2.653656     3.260383     3.927528"
            ]
          },
          "metadata": {
            "tags": []
          },
          "execution_count": 16
        }
      ]
    },
    {
      "metadata": {
        "id": "bBaesndLL8Jz",
        "colab_type": "text"
      },
      "cell_type": "markdown",
      "source": [
        "이 DataFrame의 한 칼럼에서 절대값이 3을 초과하는 값을 찾아내자."
      ]
    },
    {
      "metadata": {
        "id": "C88JKhraMEY-",
        "colab_type": "text"
      },
      "cell_type": "markdown",
      "source": [
        "#### 실습"
      ]
    },
    {
      "metadata": {
        "id": "Rb8LIo2JL3MT",
        "colab_type": "code",
        "colab": {}
      },
      "cell_type": "code",
      "source": [
        "col = data[3]"
      ],
      "execution_count": 0,
      "outputs": []
    },
    {
      "metadata": {
        "id": "R0W0ze0EMMWN",
        "colab_type": "code",
        "colab": {
          "base_uri": "https://localhost:8080/",
          "height": 89
        },
        "outputId": "d50cd5bf-d49e-47ef-fe58-7898f8fcded9"
      },
      "cell_type": "code",
      "source": [
        "col[np.abs(col) > 3]"
      ],
      "execution_count": 18,
      "outputs": [
        {
          "output_type": "execute_result",
          "data": {
            "text/plain": [
              "97     3.927528\n",
              "305   -3.399312\n",
              "400   -3.745356\n",
              "Name: 3, dtype: float64"
            ]
          },
          "metadata": {
            "tags": []
          },
          "execution_count": 18
        }
      ]
    },
    {
      "metadata": {
        "id": "RJrw1oqOMalQ",
        "colab_type": "text"
      },
      "cell_type": "markdown",
      "source": [
        "### 절대값이 3을 초과 하는 모든 로우를 선택하려면 어떻게 해야 할까?"
      ]
    },
    {
      "metadata": {
        "id": "_96y99wPMkEK",
        "colab_type": "text"
      },
      "cell_type": "markdown",
      "source": [
        "#### 실습"
      ]
    },
    {
      "metadata": {
        "id": "fQdHbi0fMSXr",
        "colab_type": "code",
        "colab": {
          "base_uri": "https://localhost:8080/",
          "height": 390
        },
        "outputId": "e9ed8eb1-002f-42b8-d967-8a3675848b34"
      },
      "cell_type": "code",
      "source": [
        "data[(np.abs(data) > 3).any(1)]"
      ],
      "execution_count": 20,
      "outputs": [
        {
          "output_type": "execute_result",
          "data": {
            "text/html": [
              "<div>\n",
              "<style scoped>\n",
              "    .dataframe tbody tr th:only-of-type {\n",
              "        vertical-align: middle;\n",
              "    }\n",
              "\n",
              "    .dataframe tbody tr th {\n",
              "        vertical-align: top;\n",
              "    }\n",
              "\n",
              "    .dataframe thead th {\n",
              "        text-align: right;\n",
              "    }\n",
              "</style>\n",
              "<table border=\"1\" class=\"dataframe\">\n",
              "  <thead>\n",
              "    <tr style=\"text-align: right;\">\n",
              "      <th></th>\n",
              "      <th>0</th>\n",
              "      <th>1</th>\n",
              "      <th>2</th>\n",
              "      <th>3</th>\n",
              "    </tr>\n",
              "  </thead>\n",
              "  <tbody>\n",
              "    <tr>\n",
              "      <th>5</th>\n",
              "      <td>-0.539741</td>\n",
              "      <td>0.476985</td>\n",
              "      <td>3.248944</td>\n",
              "      <td>-1.021228</td>\n",
              "    </tr>\n",
              "    <tr>\n",
              "      <th>97</th>\n",
              "      <td>-0.774363</td>\n",
              "      <td>0.552936</td>\n",
              "      <td>0.106061</td>\n",
              "      <td>3.927528</td>\n",
              "    </tr>\n",
              "    <tr>\n",
              "      <th>102</th>\n",
              "      <td>-0.655054</td>\n",
              "      <td>-0.565230</td>\n",
              "      <td>3.176873</td>\n",
              "      <td>0.959533</td>\n",
              "    </tr>\n",
              "    <tr>\n",
              "      <th>305</th>\n",
              "      <td>-2.315555</td>\n",
              "      <td>0.457246</td>\n",
              "      <td>-0.025907</td>\n",
              "      <td>-3.399312</td>\n",
              "    </tr>\n",
              "    <tr>\n",
              "      <th>324</th>\n",
              "      <td>0.050188</td>\n",
              "      <td>1.951312</td>\n",
              "      <td>3.260383</td>\n",
              "      <td>0.963301</td>\n",
              "    </tr>\n",
              "    <tr>\n",
              "      <th>400</th>\n",
              "      <td>0.146326</td>\n",
              "      <td>0.508391</td>\n",
              "      <td>-0.196713</td>\n",
              "      <td>-3.745356</td>\n",
              "    </tr>\n",
              "    <tr>\n",
              "      <th>499</th>\n",
              "      <td>-0.293333</td>\n",
              "      <td>-0.242459</td>\n",
              "      <td>-3.056990</td>\n",
              "      <td>1.918403</td>\n",
              "    </tr>\n",
              "    <tr>\n",
              "      <th>523</th>\n",
              "      <td>-3.428254</td>\n",
              "      <td>-0.296336</td>\n",
              "      <td>-0.439938</td>\n",
              "      <td>-0.867165</td>\n",
              "    </tr>\n",
              "    <tr>\n",
              "      <th>586</th>\n",
              "      <td>0.275144</td>\n",
              "      <td>1.179227</td>\n",
              "      <td>-3.184377</td>\n",
              "      <td>1.369891</td>\n",
              "    </tr>\n",
              "    <tr>\n",
              "      <th>808</th>\n",
              "      <td>-0.362528</td>\n",
              "      <td>-3.548824</td>\n",
              "      <td>1.553205</td>\n",
              "      <td>-2.186301</td>\n",
              "    </tr>\n",
              "    <tr>\n",
              "      <th>900</th>\n",
              "      <td>3.366626</td>\n",
              "      <td>-2.372214</td>\n",
              "      <td>0.851010</td>\n",
              "      <td>1.332846</td>\n",
              "    </tr>\n",
              "  </tbody>\n",
              "</table>\n",
              "</div>"
            ],
            "text/plain": [
              "            0         1         2         3\n",
              "5   -0.539741  0.476985  3.248944 -1.021228\n",
              "97  -0.774363  0.552936  0.106061  3.927528\n",
              "102 -0.655054 -0.565230  3.176873  0.959533\n",
              "305 -2.315555  0.457246 -0.025907 -3.399312\n",
              "324  0.050188  1.951312  3.260383  0.963301\n",
              "400  0.146326  0.508391 -0.196713 -3.745356\n",
              "499 -0.293333 -0.242459 -3.056990  1.918403\n",
              "523 -3.428254 -0.296336 -0.439938 -0.867165\n",
              "586  0.275144  1.179227 -3.184377  1.369891\n",
              "808 -0.362528 -3.548824  1.553205 -2.186301\n",
              "900  3.366626 -2.372214  0.851010  1.332846"
            ]
          },
          "metadata": {
            "tags": []
          },
          "execution_count": 20
        }
      ]
    },
    {
      "metadata": {
        "id": "mExdHvYiNzaz",
        "colab_type": "text"
      },
      "cell_type": "markdown",
      "source": [
        "이 기준으로 쉽게 값을 선택할 수 있으며, 아래 코드로 -3이나, 3을 초과하는 값을 -3 혹은 3으로 지정할 있다."
      ]
    },
    {
      "metadata": {
        "id": "fgQqk4ddMvnk",
        "colab_type": "code",
        "colab": {}
      },
      "cell_type": "code",
      "source": [
        "data[(np.abs(data) > 3)] = np.sign(data) * 3"
      ],
      "execution_count": 0,
      "outputs": []
    },
    {
      "metadata": {
        "id": "xKcYMfXaOIYr",
        "colab_type": "code",
        "colab": {
          "base_uri": "https://localhost:8080/",
          "height": 297
        },
        "outputId": "2f7d9c03-b750-4cd1-c0c7-686bdfd28a1d"
      },
      "cell_type": "code",
      "source": [
        "data.describe()"
      ],
      "execution_count": 22,
      "outputs": [
        {
          "output_type": "execute_result",
          "data": {
            "text/html": [
              "<div>\n",
              "<style scoped>\n",
              "    .dataframe tbody tr th:only-of-type {\n",
              "        vertical-align: middle;\n",
              "    }\n",
              "\n",
              "    .dataframe tbody tr th {\n",
              "        vertical-align: top;\n",
              "    }\n",
              "\n",
              "    .dataframe thead th {\n",
              "        text-align: right;\n",
              "    }\n",
              "</style>\n",
              "<table border=\"1\" class=\"dataframe\">\n",
              "  <thead>\n",
              "    <tr style=\"text-align: right;\">\n",
              "      <th></th>\n",
              "      <th>0</th>\n",
              "      <th>1</th>\n",
              "      <th>2</th>\n",
              "      <th>3</th>\n",
              "    </tr>\n",
              "  </thead>\n",
              "  <tbody>\n",
              "    <tr>\n",
              "      <th>count</th>\n",
              "      <td>1000.000000</td>\n",
              "      <td>1000.000000</td>\n",
              "      <td>1000.000000</td>\n",
              "      <td>1000.000000</td>\n",
              "    </tr>\n",
              "    <tr>\n",
              "      <th>mean</th>\n",
              "      <td>-0.067623</td>\n",
              "      <td>0.068473</td>\n",
              "      <td>0.025153</td>\n",
              "      <td>-0.002081</td>\n",
              "    </tr>\n",
              "    <tr>\n",
              "      <th>std</th>\n",
              "      <td>0.995485</td>\n",
              "      <td>0.990253</td>\n",
              "      <td>1.003977</td>\n",
              "      <td>0.989736</td>\n",
              "    </tr>\n",
              "    <tr>\n",
              "      <th>min</th>\n",
              "      <td>-3.000000</td>\n",
              "      <td>-3.000000</td>\n",
              "      <td>-3.000000</td>\n",
              "      <td>-3.000000</td>\n",
              "    </tr>\n",
              "    <tr>\n",
              "      <th>25%</th>\n",
              "      <td>-0.774890</td>\n",
              "      <td>-0.591841</td>\n",
              "      <td>-0.641675</td>\n",
              "      <td>-0.644144</td>\n",
              "    </tr>\n",
              "    <tr>\n",
              "      <th>50%</th>\n",
              "      <td>-0.116401</td>\n",
              "      <td>0.101143</td>\n",
              "      <td>0.002073</td>\n",
              "      <td>-0.013611</td>\n",
              "    </tr>\n",
              "    <tr>\n",
              "      <th>75%</th>\n",
              "      <td>0.616366</td>\n",
              "      <td>0.780282</td>\n",
              "      <td>0.680391</td>\n",
              "      <td>0.654328</td>\n",
              "    </tr>\n",
              "    <tr>\n",
              "      <th>max</th>\n",
              "      <td>3.000000</td>\n",
              "      <td>2.653656</td>\n",
              "      <td>3.000000</td>\n",
              "      <td>3.000000</td>\n",
              "    </tr>\n",
              "  </tbody>\n",
              "</table>\n",
              "</div>"
            ],
            "text/plain": [
              "                 0            1            2            3\n",
              "count  1000.000000  1000.000000  1000.000000  1000.000000\n",
              "mean     -0.067623     0.068473     0.025153    -0.002081\n",
              "std       0.995485     0.990253     1.003977     0.989736\n",
              "min      -3.000000    -3.000000    -3.000000    -3.000000\n",
              "25%      -0.774890    -0.591841    -0.641675    -0.644144\n",
              "50%      -0.116401     0.101143     0.002073    -0.013611\n",
              "75%       0.616366     0.780282     0.680391     0.654328\n",
              "max       3.000000     2.653656     3.000000     3.000000"
            ]
          },
          "metadata": {
            "tags": []
          },
          "execution_count": 22
        }
      ]
    },
    {
      "metadata": {
        "id": "_6LohwjPOOmx",
        "colab_type": "text"
      },
      "cell_type": "markdown",
      "source": [
        "유니버설 함수인ㄴ np.sign()은 주어진 값이 부호에 따라 1이거나 -1인 배열을 반환."
      ]
    },
    {
      "metadata": {
        "id": "bj6nF86dOeWi",
        "colab_type": "text"
      },
      "cell_type": "markdown",
      "source": [
        "### 치환과 임의 샘플링\n",
        "\n",
        "numpy.random.permutation함수를 이용하면, Series나 DataFrame의 로우를 쉬베 임의의 순서대로 재배치 가능.\n",
        "\n",
        "순서를 바꾸고 싶은 만큼의 길이를 permutation함수에 넘기면, 바뀐 순서가 담김 정수 배열이 생성."
      ]
    },
    {
      "metadata": {
        "id": "3Ur9P5LQOKQZ",
        "colab_type": "code",
        "colab": {}
      },
      "cell_type": "code",
      "source": [
        "df = pd.DataFrame(np.arange(20).reshape(5, 4))"
      ],
      "execution_count": 0,
      "outputs": []
    },
    {
      "metadata": {
        "id": "PXzz1TT_O97F",
        "colab_type": "code",
        "colab": {
          "base_uri": "https://localhost:8080/",
          "height": 204
        },
        "outputId": "c0941d4e-de09-459f-a869-46c3583d90f0"
      },
      "cell_type": "code",
      "source": [
        "df"
      ],
      "execution_count": 24,
      "outputs": [
        {
          "output_type": "execute_result",
          "data": {
            "text/html": [
              "<div>\n",
              "<style scoped>\n",
              "    .dataframe tbody tr th:only-of-type {\n",
              "        vertical-align: middle;\n",
              "    }\n",
              "\n",
              "    .dataframe tbody tr th {\n",
              "        vertical-align: top;\n",
              "    }\n",
              "\n",
              "    .dataframe thead th {\n",
              "        text-align: right;\n",
              "    }\n",
              "</style>\n",
              "<table border=\"1\" class=\"dataframe\">\n",
              "  <thead>\n",
              "    <tr style=\"text-align: right;\">\n",
              "      <th></th>\n",
              "      <th>0</th>\n",
              "      <th>1</th>\n",
              "      <th>2</th>\n",
              "      <th>3</th>\n",
              "    </tr>\n",
              "  </thead>\n",
              "  <tbody>\n",
              "    <tr>\n",
              "      <th>0</th>\n",
              "      <td>0</td>\n",
              "      <td>1</td>\n",
              "      <td>2</td>\n",
              "      <td>3</td>\n",
              "    </tr>\n",
              "    <tr>\n",
              "      <th>1</th>\n",
              "      <td>4</td>\n",
              "      <td>5</td>\n",
              "      <td>6</td>\n",
              "      <td>7</td>\n",
              "    </tr>\n",
              "    <tr>\n",
              "      <th>2</th>\n",
              "      <td>8</td>\n",
              "      <td>9</td>\n",
              "      <td>10</td>\n",
              "      <td>11</td>\n",
              "    </tr>\n",
              "    <tr>\n",
              "      <th>3</th>\n",
              "      <td>12</td>\n",
              "      <td>13</td>\n",
              "      <td>14</td>\n",
              "      <td>15</td>\n",
              "    </tr>\n",
              "    <tr>\n",
              "      <th>4</th>\n",
              "      <td>16</td>\n",
              "      <td>17</td>\n",
              "      <td>18</td>\n",
              "      <td>19</td>\n",
              "    </tr>\n",
              "  </tbody>\n",
              "</table>\n",
              "</div>"
            ],
            "text/plain": [
              "    0   1   2   3\n",
              "0   0   1   2   3\n",
              "1   4   5   6   7\n",
              "2   8   9  10  11\n",
              "3  12  13  14  15\n",
              "4  16  17  18  19"
            ]
          },
          "metadata": {
            "tags": []
          },
          "execution_count": 24
        }
      ]
    },
    {
      "metadata": {
        "id": "8kL2R-clO-yF",
        "colab_type": "code",
        "colab": {}
      },
      "cell_type": "code",
      "source": [
        "sampler = np.random.permutation(5)"
      ],
      "execution_count": 0,
      "outputs": []
    },
    {
      "metadata": {
        "id": "dINS2STvPCrs",
        "colab_type": "code",
        "colab": {
          "base_uri": "https://localhost:8080/",
          "height": 35
        },
        "outputId": "5b42b408-d8f8-4984-b073-1319a8edf92f"
      },
      "cell_type": "code",
      "source": [
        "sampler"
      ],
      "execution_count": 26,
      "outputs": [
        {
          "output_type": "execute_result",
          "data": {
            "text/plain": [
              "array([1, 0, 2, 3, 4])"
            ]
          },
          "metadata": {
            "tags": []
          },
          "execution_count": 26
        }
      ]
    },
    {
      "metadata": {
        "id": "QsXTtgxOPMBi",
        "colab_type": "text"
      },
      "cell_type": "markdown",
      "source": [
        "이렇게 생성된 배열은 ix기반의 색인이나, take함수에 사용 가능."
      ]
    },
    {
      "metadata": {
        "id": "PZfbbt1JPEYr",
        "colab_type": "code",
        "colab": {
          "base_uri": "https://localhost:8080/",
          "height": 204
        },
        "outputId": "4f61b3e7-88bf-4fc2-96f1-14873715e2b2"
      },
      "cell_type": "code",
      "source": [
        "df.take(sampler)"
      ],
      "execution_count": 27,
      "outputs": [
        {
          "output_type": "execute_result",
          "data": {
            "text/html": [
              "<div>\n",
              "<style scoped>\n",
              "    .dataframe tbody tr th:only-of-type {\n",
              "        vertical-align: middle;\n",
              "    }\n",
              "\n",
              "    .dataframe tbody tr th {\n",
              "        vertical-align: top;\n",
              "    }\n",
              "\n",
              "    .dataframe thead th {\n",
              "        text-align: right;\n",
              "    }\n",
              "</style>\n",
              "<table border=\"1\" class=\"dataframe\">\n",
              "  <thead>\n",
              "    <tr style=\"text-align: right;\">\n",
              "      <th></th>\n",
              "      <th>0</th>\n",
              "      <th>1</th>\n",
              "      <th>2</th>\n",
              "      <th>3</th>\n",
              "    </tr>\n",
              "  </thead>\n",
              "  <tbody>\n",
              "    <tr>\n",
              "      <th>1</th>\n",
              "      <td>4</td>\n",
              "      <td>5</td>\n",
              "      <td>6</td>\n",
              "      <td>7</td>\n",
              "    </tr>\n",
              "    <tr>\n",
              "      <th>0</th>\n",
              "      <td>0</td>\n",
              "      <td>1</td>\n",
              "      <td>2</td>\n",
              "      <td>3</td>\n",
              "    </tr>\n",
              "    <tr>\n",
              "      <th>2</th>\n",
              "      <td>8</td>\n",
              "      <td>9</td>\n",
              "      <td>10</td>\n",
              "      <td>11</td>\n",
              "    </tr>\n",
              "    <tr>\n",
              "      <th>3</th>\n",
              "      <td>12</td>\n",
              "      <td>13</td>\n",
              "      <td>14</td>\n",
              "      <td>15</td>\n",
              "    </tr>\n",
              "    <tr>\n",
              "      <th>4</th>\n",
              "      <td>16</td>\n",
              "      <td>17</td>\n",
              "      <td>18</td>\n",
              "      <td>19</td>\n",
              "    </tr>\n",
              "  </tbody>\n",
              "</table>\n",
              "</div>"
            ],
            "text/plain": [
              "    0   1   2   3\n",
              "1   4   5   6   7\n",
              "0   0   1   2   3\n",
              "2   8   9  10  11\n",
              "3  12  13  14  15\n",
              "4  16  17  18  19"
            ]
          },
          "metadata": {
            "tags": []
          },
          "execution_count": 27
        }
      ]
    },
    {
      "metadata": {
        "id": "sHnZBHHaPwXg",
        "colab_type": "text"
      },
      "cell_type": "markdown",
      "source": [
        "치환없이 일부만 임의로 선택하려면, permutation함수의 반환된 배열에서 원하는 크기 k 만큼만 처음부터 잘라내면 된다. \n",
        "\n",
        "치환하지 않고 표본을 수집하는 효과적인 알고리즘도 많지만, 이 방법은 손쉽게 사용 가능."
      ]
    },
    {
      "metadata": {
        "id": "StBRUscQPIk2",
        "colab_type": "code",
        "colab": {
          "base_uri": "https://localhost:8080/",
          "height": 142
        },
        "outputId": "603203a4-9c52-451b-ae13-6b3e171d521a"
      },
      "cell_type": "code",
      "source": [
        "df.take(np.random.permutation(len(df))[:3])"
      ],
      "execution_count": 28,
      "outputs": [
        {
          "output_type": "execute_result",
          "data": {
            "text/html": [
              "<div>\n",
              "<style scoped>\n",
              "    .dataframe tbody tr th:only-of-type {\n",
              "        vertical-align: middle;\n",
              "    }\n",
              "\n",
              "    .dataframe tbody tr th {\n",
              "        vertical-align: top;\n",
              "    }\n",
              "\n",
              "    .dataframe thead th {\n",
              "        text-align: right;\n",
              "    }\n",
              "</style>\n",
              "<table border=\"1\" class=\"dataframe\">\n",
              "  <thead>\n",
              "    <tr style=\"text-align: right;\">\n",
              "      <th></th>\n",
              "      <th>0</th>\n",
              "      <th>1</th>\n",
              "      <th>2</th>\n",
              "      <th>3</th>\n",
              "    </tr>\n",
              "  </thead>\n",
              "  <tbody>\n",
              "    <tr>\n",
              "      <th>1</th>\n",
              "      <td>4</td>\n",
              "      <td>5</td>\n",
              "      <td>6</td>\n",
              "      <td>7</td>\n",
              "    </tr>\n",
              "    <tr>\n",
              "      <th>3</th>\n",
              "      <td>12</td>\n",
              "      <td>13</td>\n",
              "      <td>14</td>\n",
              "      <td>15</td>\n",
              "    </tr>\n",
              "    <tr>\n",
              "      <th>4</th>\n",
              "      <td>16</td>\n",
              "      <td>17</td>\n",
              "      <td>18</td>\n",
              "      <td>19</td>\n",
              "    </tr>\n",
              "  </tbody>\n",
              "</table>\n",
              "</div>"
            ],
            "text/plain": [
              "    0   1   2   3\n",
              "1   4   5   6   7\n",
              "3  12  13  14  15\n",
              "4  16  17  18  19"
            ]
          },
          "metadata": {
            "tags": []
          },
          "execution_count": 28
        }
      ]
    },
    {
      "metadata": {
        "id": "0uLOYRXkQJVY",
        "colab_type": "text"
      },
      "cell_type": "markdown",
      "source": [
        "치환을 통해 표본을 생성하기 위한 가장 빠른 방법은 randint를 통해서 생성한 난수를 이용하는 방법이다."
      ]
    },
    {
      "metadata": {
        "id": "ZBNXc7kXQFLm",
        "colab_type": "code",
        "colab": {}
      },
      "cell_type": "code",
      "source": [
        "bag = np.array([5, 7, -1, 6, 4])\n",
        "\n",
        "sampler = np.random.randint(0, len(bag), size=10)"
      ],
      "execution_count": 0,
      "outputs": []
    },
    {
      "metadata": {
        "id": "SuJxtcNLQkL1",
        "colab_type": "code",
        "colab": {
          "base_uri": "https://localhost:8080/",
          "height": 35
        },
        "outputId": "a9218bb2-9d8f-47e9-f2e9-012530498c7f"
      },
      "cell_type": "code",
      "source": [
        "sampler"
      ],
      "execution_count": 30,
      "outputs": [
        {
          "output_type": "execute_result",
          "data": {
            "text/plain": [
              "array([4, 4, 2, 2, 2, 0, 3, 0, 4, 1])"
            ]
          },
          "metadata": {
            "tags": []
          },
          "execution_count": 30
        }
      ]
    },
    {
      "metadata": {
        "id": "5iDKUKyvQlld",
        "colab_type": "code",
        "colab": {}
      },
      "cell_type": "code",
      "source": [
        "draws = bag.take(sampler)"
      ],
      "execution_count": 0,
      "outputs": []
    },
    {
      "metadata": {
        "id": "2To0JyWvQtXJ",
        "colab_type": "code",
        "colab": {
          "base_uri": "https://localhost:8080/",
          "height": 35
        },
        "outputId": "3ec23f79-1f6d-497f-ef7b-76ded5990193"
      },
      "cell_type": "code",
      "source": [
        "draws"
      ],
      "execution_count": 32,
      "outputs": [
        {
          "output_type": "execute_result",
          "data": {
            "text/plain": [
              "array([ 4,  4, -1, -1, -1,  5,  6,  5,  4,  7])"
            ]
          },
          "metadata": {
            "tags": []
          },
          "execution_count": 32
        }
      ]
    },
    {
      "metadata": {
        "id": "ixr13Gs6QywI",
        "colab_type": "text"
      },
      "cell_type": "markdown",
      "source": [
        "오늘은 여기까지 2019.3.15"
      ]
    },
    {
      "metadata": {
        "id": "N0w53MeQQvj2",
        "colab_type": "code",
        "colab": {}
      },
      "cell_type": "code",
      "source": [
        ""
      ],
      "execution_count": 0,
      "outputs": []
    }
  ]
}